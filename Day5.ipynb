{
  "nbformat": 4,
  "nbformat_minor": 0,
  "metadata": {
    "colab": {
      "provenance": [],
      "authorship_tag": "ABX9TyOAknKkN9Dw7qtKTycYIXA1",
      "include_colab_link": true
    },
    "kernelspec": {
      "name": "python3",
      "display_name": "Python 3"
    },
    "language_info": {
      "name": "python"
    }
  },
  "cells": [
    {
      "cell_type": "markdown",
      "metadata": {
        "id": "view-in-github",
        "colab_type": "text"
      },
      "source": [
        "<a href=\"https://colab.research.google.com/github/DiyaBansal0325/training-python/blob/main/Day5.ipynb\" target=\"_parent\"><img src=\"https://colab.research.google.com/assets/colab-badge.svg\" alt=\"Open In Colab\"/></a>"
      ]
    },
    {
      "cell_type": "markdown",
      "source": [
        "#Dictionary"
      ],
      "metadata": {
        "id": "gXe9DkZJButP"
      }
    },
    {
      "cell_type": "code",
      "source": [
        "#dictionary => datatype\n",
        "#Value stores in key-value pair\n",
        "#key => unique identifier\n",
        "#value : unique / duplicate\n",
        "#It is mutuable\n",
        "#no index position"
      ],
      "metadata": {
        "id": "Cz2FPt6L85GC"
      },
      "execution_count": null,
      "outputs": []
    },
    {
      "cell_type": "code",
      "source": [
        "mydict = {10:\"Diya\",20:\"Kinsh\"}\n",
        "print(mydict[10])"
      ],
      "metadata": {
        "colab": {
          "base_uri": "https://localhost:8080/"
        },
        "id": "il_yHxSNCdYX",
        "outputId": "da1443b8-388c-47a7-d9e6-b18ab392dcca"
      },
      "execution_count": null,
      "outputs": [
        {
          "output_type": "stream",
          "name": "stdout",
          "text": [
            "Diya\n"
          ]
        }
      ]
    },
    {
      "cell_type": "code",
      "source": [
        "mydict = {10:\"Diya\",20:\"Kinsh\"}\n",
        "mydict[10] = \"Rishab\"  #update value\n",
        "print(mydict)\n",
        "mydict[\"amount\"] = 1000   #inset the key-value\n",
        "print(mydict)\n",
        "mydict.pop(20)    #delete using pop function and key name\n",
        "print(mydict)"
      ],
      "metadata": {
        "colab": {
          "base_uri": "https://localhost:8080/"
        },
        "id": "Wadu54wOCpqU",
        "outputId": "107f5413-7a0d-4746-b5e9-2b3ae0b660b2"
      },
      "execution_count": null,
      "outputs": [
        {
          "output_type": "stream",
          "name": "stdout",
          "text": [
            "{10: 'Rishab', 20: 'Kinsh'}\n",
            "{10: 'Rishab', 20: 'Kinsh', 'amount': 1000}\n",
            "{10: 'Rishab', 'amount': 1000}\n"
          ]
        }
      ]
    },
    {
      "cell_type": "code",
      "source": [
        "print( help(mydict))"
      ],
      "metadata": {
        "colab": {
          "base_uri": "https://localhost:8080/",
          "height": 106
        },
        "id": "_rwtsk0JDA97",
        "outputId": "245035b1-f775-4498-af62-b7fa80bf6b81"
      },
      "execution_count": null,
      "outputs": [
        {
          "output_type": "error",
          "ename": "SyntaxError",
          "evalue": "incomplete input (<ipython-input-45-d389a53d0954>, line 1)",
          "traceback": [
            "\u001b[0;36m  File \u001b[0;32m\"<ipython-input-45-d389a53d0954>\"\u001b[0;36m, line \u001b[0;32m1\u001b[0m\n\u001b[0;31m    print( help(mydict)\u001b[0m\n\u001b[0m                        ^\u001b[0m\n\u001b[0;31mSyntaxError\u001b[0m\u001b[0;31m:\u001b[0m incomplete input\n"
          ]
        }
      ]
    },
    {
      "cell_type": "code",
      "source": [
        "mydict.keys()    #to access only keys"
      ],
      "metadata": {
        "colab": {
          "base_uri": "https://localhost:8080/"
        },
        "id": "SNbWY0QqDoCC",
        "outputId": "1e2db000-50ed-4cfb-9658-c5556c253db9"
      },
      "execution_count": null,
      "outputs": [
        {
          "output_type": "execute_result",
          "data": {
            "text/plain": [
              "dict_keys([10, 'amount'])"
            ]
          },
          "metadata": {},
          "execution_count": 10
        }
      ]
    },
    {
      "cell_type": "code",
      "source": [
        "mydict.values()    #to access only values"
      ],
      "metadata": {
        "colab": {
          "base_uri": "https://localhost:8080/"
        },
        "id": "CL0Q6nycD10Y",
        "outputId": "979fc87a-62d5-4823-bf52-68ea3845a2e6"
      },
      "execution_count": null,
      "outputs": [
        {
          "output_type": "execute_result",
          "data": {
            "text/plain": [
              "dict_values(['Rishab', 1000])"
            ]
          },
          "metadata": {},
          "execution_count": 12
        }
      ]
    },
    {
      "cell_type": "code",
      "source": [
        "data=\"hello\"\n",
        "count = 0\n",
        "for char in data:\n",
        "  count+= 1\n",
        "mydict = {\"total\":count}\n",
        "print(mydict)"
      ],
      "metadata": {
        "colab": {
          "base_uri": "https://localhost:8080/"
        },
        "id": "vmBYwrCtELjd",
        "outputId": "dfced175-d403-4082-f1c0-d169f799df3b"
      },
      "execution_count": null,
      "outputs": [
        {
          "output_type": "stream",
          "name": "stdout",
          "text": [
            "{'total': 5}\n"
          ]
        }
      ]
    },
    {
      "cell_type": "code",
      "source": [
        "data = \"user\"\n",
        "mydictionary = {}\n",
        "for char in data:\n",
        "  mydictionary[char] = 1\n",
        "print(mydictionary)"
      ],
      "metadata": {
        "colab": {
          "base_uri": "https://localhost:8080/"
        },
        "id": "sh-JyEYRE155",
        "outputId": "eaaeb690-a249-4a9c-8414-1a9da5ecce1c"
      },
      "execution_count": null,
      "outputs": [
        {
          "output_type": "stream",
          "name": "stdout",
          "text": [
            "{'u': 1, 's': 1, 'e': 1, 'r': 1}\n"
          ]
        }
      ]
    },
    {
      "cell_type": "code",
      "source": [
        "data = \"hey isha\"\n",
        "mydict = {}\n",
        "for char in data:\n",
        "  if char in \"aeiou\":\n",
        "    mydict[char] = 1\n",
        "print(mydict)"
      ],
      "metadata": {
        "colab": {
          "base_uri": "https://localhost:8080/"
        },
        "id": "ptRAZfhJFhEs",
        "outputId": "26f8103f-f830-424e-b4a5-3e0919e153e2"
      },
      "execution_count": null,
      "outputs": [
        {
          "output_type": "stream",
          "name": "stdout",
          "text": [
            "{'e': 1, 'i': 1, 'a': 1}\n"
          ]
        }
      ]
    },
    {
      "cell_type": "code",
      "source": [
        "mydict={\"amount\":15}\n",
        "mydict[\"amount\"] = mydict[\"amount\"]+200\n",
        "print(mydict)"
      ],
      "metadata": {
        "colab": {
          "base_uri": "https://localhost:8080/"
        },
        "id": "Eqr4m-yZHgh_",
        "outputId": "00bb8053-0551-4594-c11f-4aba630cdb24"
      },
      "execution_count": null,
      "outputs": [
        {
          "output_type": "stream",
          "name": "stdout",
          "text": [
            "{'amount': 215}\n"
          ]
        }
      ]
    },
    {
      "cell_type": "code",
      "source": [
        "data = \"hey ishaeea\"\n",
        "mydict = {}\n",
        "for char in data:\n",
        "  if char in \"aeiou\":\n",
        "    if char not in mydict:\n",
        "      mydict[char] = 1\n",
        "    else:\n",
        "      mydict[char] = mydict[char] + 1\n",
        "print(mydict)"
      ],
      "metadata": {
        "colab": {
          "base_uri": "https://localhost:8080/"
        },
        "id": "bKelTgfNHf30",
        "outputId": "ee0b519e-aace-49cb-9217-074922709261"
      },
      "execution_count": null,
      "outputs": [
        {
          "output_type": "stream",
          "name": "stdout",
          "text": [
            "{'e': 3, 'i': 1, 'a': 2}\n"
          ]
        }
      ]
    },
    {
      "cell_type": "markdown",
      "source": [
        "#list Comprehension => way to write list in simple shorter manner"
      ],
      "metadata": {
        "id": "M_8FSvjdMQkn"
      }
    },
    {
      "cell_type": "code",
      "source": [
        "newlist = []\n",
        "for i in [10,20,30,40]:\n",
        "  newlist.append(i+5)\n",
        "print(newlist)"
      ],
      "metadata": {
        "colab": {
          "base_uri": "https://localhost:8080/"
        },
        "id": "aGxtCq7mJiH9",
        "outputId": "f5f1eee4-a769-4076-f842-604576fe9916"
      },
      "execution_count": null,
      "outputs": [
        {
          "output_type": "stream",
          "name": "stdout",
          "text": [
            "[15, 25, 35, 45]\n"
          ]
        }
      ]
    },
    {
      "cell_type": "code",
      "source": [
        "[ i+5 for i in [10,20,30,40]]"
      ],
      "metadata": {
        "colab": {
          "base_uri": "https://localhost:8080/"
        },
        "id": "0kjWC9z7MBeC",
        "outputId": "0069c6a3-b4b4-4cec-94e2-2d2329174903"
      },
      "execution_count": null,
      "outputs": [
        {
          "output_type": "execute_result",
          "data": {
            "text/plain": [
              "[15, 25, 35, 45]"
            ]
          },
          "metadata": {},
          "execution_count": 42
        }
      ]
    },
    {
      "cell_type": "markdown",
      "source": [
        "#Dictionary comprehension => way to write dictionary in simple shorter manner"
      ],
      "metadata": {
        "id": "t0OCK2zrMhAa"
      }
    },
    {
      "cell_type": "code",
      "source": [
        "{ char:1 for char in \"hey\"}"
      ],
      "metadata": {
        "colab": {
          "base_uri": "https://localhost:8080/"
        },
        "id": "zG5zR2FfMUpD",
        "outputId": "a6944a40-1382-4691-f519-54db249eb80e"
      },
      "execution_count": null,
      "outputs": [
        {
          "output_type": "execute_result",
          "data": {
            "text/plain": [
              "{'h': 1, 'e': 1, 'y': 1}"
            ]
          },
          "metadata": {},
          "execution_count": 44
        }
      ]
    },
    {
      "cell_type": "markdown",
      "source": [
        "#Functions"
      ],
      "metadata": {
        "id": "mo2ryhjdNwSv"
      }
    },
    {
      "cell_type": "code",
      "source": [
        "#function => set of statement => to perform tasks\n",
        "#It help in code reusability"
      ],
      "metadata": {
        "id": "7tcs6uTGMpUT"
      },
      "execution_count": null,
      "outputs": []
    },
    {
      "cell_type": "code",
      "source": [
        "a = 100    #global variable\n",
        "def test():\n",
        "  z = 19   #local variable\n",
        "  print(\"hello\",z,a)"
      ],
      "metadata": {
        "id": "q9TCtXMPNx1f"
      },
      "execution_count": null,
      "outputs": []
    },
    {
      "cell_type": "code",
      "source": [
        "test()\n",
        "test()\n",
        "print(a)"
      ],
      "metadata": {
        "colab": {
          "base_uri": "https://localhost:8080/"
        },
        "id": "lAL9ZB65N3jU",
        "outputId": "725c8217-85f8-47f8-fe92-4b5e3d89dd49"
      },
      "execution_count": null,
      "outputs": [
        {
          "output_type": "stream",
          "name": "stdout",
          "text": [
            "hello 19 100\n",
            "hello 19 100\n",
            "100\n"
          ]
        }
      ]
    },
    {
      "cell_type": "code",
      "source": [
        "def msg( username ):  #parameters\n",
        "  print(\"hey user\", username)\n",
        "msg(\"Diya\")   #arguement\n",
        "msg(\"Kinshuk\")"
      ],
      "metadata": {
        "colab": {
          "base_uri": "https://localhost:8080/"
        },
        "id": "cXfAQ9GWOfup",
        "outputId": "422725cb-f5ac-42e8-9e09-78d1d8883c80"
      },
      "execution_count": null,
      "outputs": [
        {
          "output_type": "stream",
          "name": "stdout",
          "text": [
            "hey user Diya\n",
            "hey user Kinshuk\n"
          ]
        }
      ]
    },
    {
      "cell_type": "code",
      "source": [
        "def totalsum(num):\n",
        "  total = 0\n",
        "  for i in range(1,num+1):\n",
        "    total = total + i\n",
        "  print(f\"Sum of {num} is =>\",total)"
      ],
      "metadata": {
        "id": "Qkk0fix3QKdd"
      },
      "execution_count": null,
      "outputs": []
    },
    {
      "cell_type": "code",
      "source": [
        "totalsum(10)\n",
        "totalsum(5)"
      ],
      "metadata": {
        "colab": {
          "base_uri": "https://localhost:8080/"
        },
        "id": "NRO-pRoTRBrt",
        "outputId": "59d07518-0719-4ddc-ad8a-929fba2d76e9"
      },
      "execution_count": null,
      "outputs": [
        {
          "output_type": "stream",
          "name": "stdout",
          "text": [
            "Sum of 10 is => 55\n",
            "Sum of 5 is => 15\n"
          ]
        }
      ]
    },
    {
      "cell_type": "code",
      "source": [
        "# num = 4\n",
        "def Pattern(num):\n",
        "  for i in range(1,num+1):\n",
        "    for j in range(1,i):\n",
        "      print(\"-\",end=\" \")\n",
        "    for j in range(1,(num +2)-i):\n",
        "      print(j,end=\" \")\n",
        "    print(\"\")"
      ],
      "metadata": {
        "id": "M4fPYDk9Rg9d"
      },
      "execution_count": null,
      "outputs": []
    },
    {
      "cell_type": "code",
      "source": [
        "Pattern(4)"
      ],
      "metadata": {
        "colab": {
          "base_uri": "https://localhost:8080/"
        },
        "id": "4V0R64l1S6D0",
        "outputId": "632c7757-114f-49b3-dabe-5363c492a292"
      },
      "execution_count": null,
      "outputs": [
        {
          "output_type": "stream",
          "name": "stdout",
          "text": [
            "1 2 3 4 \n",
            "- 1 2 3 \n",
            "- - 1 2 \n",
            "- - - 1 \n"
          ]
        }
      ]
    },
    {
      "cell_type": "code",
      "source": [
        "Pattern(5)"
      ],
      "metadata": {
        "colab": {
          "base_uri": "https://localhost:8080/"
        },
        "id": "rPyhRimQSdRV",
        "outputId": "f45da775-0c9e-42ab-88a8-19a94e4afadf"
      },
      "execution_count": null,
      "outputs": [
        {
          "output_type": "stream",
          "name": "stdout",
          "text": [
            "1 2 3 4 5 \n",
            "- 1 2 3 4 \n",
            "- - 1 2 3 \n",
            "- - - 1 2 \n",
            "- - - - 1 \n"
          ]
        }
      ]
    },
    {
      "cell_type": "code",
      "source": [
        "#Write a function to get LCM of 2 numbers\n",
        "#Write a function to check whether a number is a armstrong or not\n",
        "#Write a function to check whether a number is a palindrome or not NOTE: don't typecast number into string"
      ],
      "metadata": {
        "id": "fHLSW_DzTmbk"
      },
      "execution_count": null,
      "outputs": []
    },
    {
      "cell_type": "code",
      "source": [
        "#LCM\n",
        "def Lcm(a,b):\n",
        "  if(a>b):\n",
        "    grater = a\n",
        "  else:\n",
        "    greater = b\n",
        "  while(True):\n",
        "    if(greater%a==0 and greater%b==0):\n",
        "      print(\"Greater is the LCM =>\",greater)\n",
        "      break\n",
        "    else:\n",
        "      greater+=1"
      ],
      "metadata": {
        "id": "brzIvqU_ULWE"
      },
      "execution_count": null,
      "outputs": []
    },
    {
      "cell_type": "code",
      "source": [
        "Lcm(2,8)"
      ],
      "metadata": {
        "colab": {
          "base_uri": "https://localhost:8080/"
        },
        "id": "q-UzhwVjZZHt",
        "outputId": "58a65cb2-09f8-4448-b801-f614f6f835bb"
      },
      "execution_count": null,
      "outputs": [
        {
          "output_type": "stream",
          "name": "stdout",
          "text": [
            "Greater is the LCM => 8\n"
          ]
        }
      ]
    },
    {
      "cell_type": "code",
      "source": [
        "Lcm(2,5)"
      ],
      "metadata": {
        "colab": {
          "base_uri": "https://localhost:8080/"
        },
        "id": "61matRysZYOc",
        "outputId": "40d7d07d-a82c-41f0-fb84-943214bde2b4"
      },
      "execution_count": null,
      "outputs": [
        {
          "output_type": "stream",
          "name": "stdout",
          "text": [
            "Greater is the LCM => 10\n"
          ]
        }
      ]
    },
    {
      "cell_type": "code",
      "source": [
        "Lcm(3,7)"
      ],
      "metadata": {
        "colab": {
          "base_uri": "https://localhost:8080/"
        },
        "id": "CAQ5ivVDZb27",
        "outputId": "cdc26918-5088-4d96-a205-21e3403bf7c1"
      },
      "execution_count": null,
      "outputs": [
        {
          "output_type": "stream",
          "name": "stdout",
          "text": [
            "Greater is the LCM => 21\n"
          ]
        }
      ]
    },
    {
      "cell_type": "code",
      "source": [
        "#Armstrong taking number as a string\n",
        "def is_armstrong(num):\n",
        "  num_st = str(num)\n",
        "  num_length = len(num_st)\n",
        "  total = 0\n",
        "  for i in num_st:\n",
        "    total += int(i) ** num_length\n",
        "  if(total == num):\n",
        "    print(\"It is an armstrong number\")\n",
        "  else:\n",
        "    print(\"Not an armstrong number\")"
      ],
      "metadata": {
        "id": "ZUovGlPgUiui"
      },
      "execution_count": null,
      "outputs": []
    },
    {
      "cell_type": "code",
      "source": [
        "is_armstrong(153)"
      ],
      "metadata": {
        "colab": {
          "base_uri": "https://localhost:8080/"
        },
        "id": "W8owGbsFVLXy",
        "outputId": "197a15b5-6f4e-4989-97fc-dd2340731eab"
      },
      "execution_count": null,
      "outputs": [
        {
          "output_type": "stream",
          "name": "stdout",
          "text": [
            "It is an armstrong number\n"
          ]
        }
      ]
    },
    {
      "cell_type": "code",
      "source": [
        "is_armstrong(531)"
      ],
      "metadata": {
        "colab": {
          "base_uri": "https://localhost:8080/"
        },
        "id": "5MZXui5rZT94",
        "outputId": "e89de88b-1a0b-433d-914e-67efe5c6bb9b"
      },
      "execution_count": null,
      "outputs": [
        {
          "output_type": "stream",
          "name": "stdout",
          "text": [
            "Not an armstrong number\n"
          ]
        }
      ]
    },
    {
      "cell_type": "code",
      "source": [
        "is_armstrong(371)"
      ],
      "metadata": {
        "colab": {
          "base_uri": "https://localhost:8080/"
        },
        "id": "yjZGsY6sZU1t",
        "outputId": "3e30fd71-643c-40eb-d64d-0c4f19960fe0"
      },
      "execution_count": null,
      "outputs": [
        {
          "output_type": "stream",
          "name": "stdout",
          "text": [
            "It is an armstrong number\n"
          ]
        }
      ]
    },
    {
      "cell_type": "code",
      "source": [
        "#Armstrong Without typecasting number into string\n",
        "def armstrg(num):\n",
        "  a = num\n",
        "  num_length = 0\n",
        "  temp = num\n",
        "  while(temp > 0):\n",
        "    num_length += 1\n",
        "    temp //= 10\n",
        "  sop = 0\n",
        "  while num > 0:\n",
        "    digit = num % 10\n",
        "    sop += digit ** num_length\n",
        "    num //= 10\n",
        "  if(a == sop):\n",
        "    print(\"Number is an armstrong\")\n",
        "  else:\n",
        "    print(\"Number is not an armstrong\")"
      ],
      "metadata": {
        "id": "W0pgYEISZV97"
      },
      "execution_count": null,
      "outputs": []
    },
    {
      "cell_type": "code",
      "source": [
        "armstrg(153)"
      ],
      "metadata": {
        "colab": {
          "base_uri": "https://localhost:8080/"
        },
        "id": "GbYC3N97a_pN",
        "outputId": "2ad47e64-9686-49cc-ff9f-72c130edd3e7"
      },
      "execution_count": null,
      "outputs": [
        {
          "output_type": "stream",
          "name": "stdout",
          "text": [
            "Number is an armstrong\n"
          ]
        }
      ]
    },
    {
      "cell_type": "code",
      "source": [
        "armstrg(513)"
      ],
      "metadata": {
        "colab": {
          "base_uri": "https://localhost:8080/"
        },
        "id": "5WP3quh8bR1V",
        "outputId": "9232c594-692e-47c4-9950-1e829ef323d1"
      },
      "execution_count": null,
      "outputs": [
        {
          "output_type": "stream",
          "name": "stdout",
          "text": [
            "Number is not an armstrong\n"
          ]
        }
      ]
    },
    {
      "cell_type": "code",
      "source": [
        "armstrg(371)"
      ],
      "metadata": {
        "colab": {
          "base_uri": "https://localhost:8080/"
        },
        "id": "DtskFJ4gbTQL",
        "outputId": "3e39a723-6c6f-408a-d5ee-bdb8a926b370"
      },
      "execution_count": null,
      "outputs": [
        {
          "output_type": "stream",
          "name": "stdout",
          "text": [
            "Number is an armstrong\n"
          ]
        }
      ]
    },
    {
      "cell_type": "code",
      "source": [],
      "metadata": {
        "id": "Ce2xuIwUbUkz"
      },
      "execution_count": null,
      "outputs": []
    },
    {
      "cell_type": "code",
      "source": [],
      "metadata": {
        "id": "9FqeE4_Dbpj6"
      },
      "execution_count": null,
      "outputs": []
    },
    {
      "cell_type": "code",
      "source": [],
      "metadata": {
        "id": "BicdMdU7bpYr"
      },
      "execution_count": null,
      "outputs": []
    },
    {
      "cell_type": "code",
      "source": [],
      "metadata": {
        "id": "uLpm2WRnbpF9"
      },
      "execution_count": null,
      "outputs": []
    },
    {
      "cell_type": "code",
      "source": [
        "#function => passing values in more ways\n",
        "def func(a,b):\n",
        "  print(\"a =>\",a,\"b =>\",b)"
      ],
      "metadata": {
        "id": "88SIN5oSdvfM"
      },
      "execution_count": null,
      "outputs": []
    },
    {
      "cell_type": "code",
      "source": [
        "#position arguement\n",
        "func(10,20)\n",
        "func(20,10)"
      ],
      "metadata": {
        "colab": {
          "base_uri": "https://localhost:8080/"
        },
        "id": "QtI_NyEceAHK",
        "outputId": "b05a746d-7e54-422a-8747-63cf0e22d948"
      },
      "execution_count": null,
      "outputs": [
        {
          "output_type": "stream",
          "name": "stdout",
          "text": [
            "a => 10 b => 20\n",
            "a => 20 b => 10\n"
          ]
        }
      ]
    },
    {
      "cell_type": "code",
      "source": [
        "#keyword arguement => which variable will have which value\n",
        "func(b=20,a=10)"
      ],
      "metadata": {
        "colab": {
          "base_uri": "https://localhost:8080/"
        },
        "id": "fF0nQsgBeETm",
        "outputId": "fae05802-9f96-42dd-b874-acb2b75ecfb0"
      },
      "execution_count": null,
      "outputs": [
        {
          "output_type": "stream",
          "name": "stdout",
          "text": [
            "a => 10 b => 20\n"
          ]
        }
      ]
    },
    {
      "cell_type": "code",
      "source": [
        "#First class function\n",
        "def funct():\n",
        "  print(\"Hello\")\n",
        "x = funct\n",
        "funct()\n",
        "x()"
      ],
      "metadata": {
        "colab": {
          "base_uri": "https://localhost:8080/"
        },
        "id": "FLmq52xUeNNL",
        "outputId": "1dbab3e4-d057-4efe-924c-b5d45273454e"
      },
      "execution_count": null,
      "outputs": [
        {
          "output_type": "stream",
          "name": "stdout",
          "text": [
            "Hello\n",
            "Hello\n"
          ]
        }
      ]
    },
    {
      "cell_type": "code",
      "source": [
        "#first class function v/s high order function"
      ],
      "metadata": {
        "id": "5U7XatxHe0O1"
      },
      "execution_count": null,
      "outputs": []
    }
  ]
}