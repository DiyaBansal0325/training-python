{
  "nbformat": 4,
  "nbformat_minor": 0,
  "metadata": {
    "colab": {
      "provenance": [],
      "authorship_tag": "ABX9TyNJYnL3iNNctnyhWZYcYc9W",
      "include_colab_link": true
    },
    "kernelspec": {
      "name": "python3",
      "display_name": "Python 3"
    },
    "language_info": {
      "name": "python"
    }
  },
  "cells": [
    {
      "cell_type": "markdown",
      "metadata": {
        "id": "view-in-github",
        "colab_type": "text"
      },
      "source": [
        "<a href=\"https://colab.research.google.com/github/DiyaBansal0325/training-python/blob/main/Day_7.ipynb\" target=\"_parent\"><img src=\"https://colab.research.google.com/assets/colab-badge.svg\" alt=\"Open In Colab\"/></a>"
      ]
    },
    {
      "cell_type": "code",
      "execution_count": null,
      "metadata": {
        "id": "Hok7RirfWhwn"
      },
      "outputs": [],
      "source": [
        "#OOPS => Object Oriented Programming System\n",
        "#Object => any real time entity -> It has 2 thing it's behaviour and characteristic\n",
        "#A system designed for a real time entity is k/a OOP system\n",
        "#A blueprint / template for an object is k/a Class"
      ]
    },
    {
      "cell_type": "code",
      "source": [
        "class HouseDesign:\n",
        "  color = \"yellow\""
      ],
      "metadata": {
        "id": "Hp1_sutEY4GP"
      },
      "execution_count": null,
      "outputs": []
    },
    {
      "cell_type": "code",
      "source": [
        "# Obj_name = class()\n",
        "h1 = HouseDesign()\n",
        "print(h1.color)"
      ],
      "metadata": {
        "colab": {
          "base_uri": "https://localhost:8080/"
        },
        "id": "H-xL8jPqZW2i",
        "outputId": "f42ce9f7-ce2a-4d7d-c710-d5d73ddc3e9d"
      },
      "execution_count": null,
      "outputs": [
        {
          "output_type": "stream",
          "name": "stdout",
          "text": [
            "yellow\n"
          ]
        }
      ]
    },
    {
      "cell_type": "code",
      "source": [
        "h2 = HouseDesign()\n",
        "h2.color = \"white\"\n",
        "print(h2.color)"
      ],
      "metadata": {
        "colab": {
          "base_uri": "https://localhost:8080/"
        },
        "id": "H-AmTXG6Zcnj",
        "outputId": "2e94eedf-8bf3-455f-bffb-6ef67476ae55"
      },
      "execution_count": null,
      "outputs": [
        {
          "output_type": "stream",
          "name": "stdout",
          "text": [
            "white\n"
          ]
        }
      ]
    },
    {
      "cell_type": "code",
      "source": [
        "class HouseDesign:\n",
        "  def __init__(self):\n",
        "    print(\"Hello\",self)"
      ],
      "metadata": {
        "id": "HKhER5HFZxVM"
      },
      "execution_count": null,
      "outputs": []
    },
    {
      "cell_type": "code",
      "source": [
        "h1 = HouseDesign()"
      ],
      "metadata": {
        "colab": {
          "base_uri": "https://localhost:8080/"
        },
        "id": "LIBP-QOnbn81",
        "outputId": "c69f4a8e-4331-4afe-e0af-7ec0d7ebe3be"
      },
      "execution_count": null,
      "outputs": [
        {
          "output_type": "stream",
          "name": "stdout",
          "text": [
            "Hello <__main__.HouseDesign object at 0x7dbcfc713350>\n"
          ]
        }
      ]
    },
    {
      "cell_type": "code",
      "source": [
        "print(h1)"
      ],
      "metadata": {
        "colab": {
          "base_uri": "https://localhost:8080/"
        },
        "id": "ceLK8GbabqZ_",
        "outputId": "06676066-a0fb-43eb-bc4f-d79fa07cbdc4"
      },
      "execution_count": null,
      "outputs": [
        {
          "output_type": "stream",
          "name": "stdout",
          "text": [
            "<__main__.HouseDesign object at 0x7dbcfc713350>\n"
          ]
        }
      ]
    },
    {
      "cell_type": "code",
      "source": [
        "class HouseDesign:\n",
        "  def __init__(self,x):\n",
        "    self.color = x"
      ],
      "metadata": {
        "id": "_BMHwn5ocEi4"
      },
      "execution_count": null,
      "outputs": []
    },
    {
      "cell_type": "code",
      "source": [
        "#First object\n",
        "h1 = HouseDesign(\"green\")\n",
        "print(\"h1:\",h1.color)\n",
        "\n",
        "h2 = HouseDesign(\"Pink\")\n",
        "print(\"h2:\",h2.color)"
      ],
      "metadata": {
        "colab": {
          "base_uri": "https://localhost:8080/"
        },
        "id": "hKG_MQX3cj5f",
        "outputId": "8334d645-5eb3-4d65-b2c1-4ff562588c54"
      },
      "execution_count": null,
      "outputs": [
        {
          "output_type": "stream",
          "name": "stdout",
          "text": [
            "h1: green\n",
            "h2: Pink\n"
          ]
        }
      ]
    },
    {
      "cell_type": "code",
      "source": [
        "class Parent:\n",
        "  amount = 50000"
      ],
      "metadata": {
        "id": "RT_MIoVpcy0Y"
      },
      "execution_count": null,
      "outputs": []
    },
    {
      "cell_type": "code",
      "source": [
        "class Child(Parent):\n",
        "  salary = 10000\n",
        "\n",
        "c1 = Child()\n",
        "print(c1.amount)"
      ],
      "metadata": {
        "colab": {
          "base_uri": "https://localhost:8080/"
        },
        "id": "EVR_BUu0glLX",
        "outputId": "e2825880-6bae-40ea-aa3c-45dbde469a7e"
      },
      "execution_count": null,
      "outputs": [
        {
          "output_type": "stream",
          "name": "stdout",
          "text": [
            "50000\n"
          ]
        }
      ]
    },
    {
      "cell_type": "code",
      "source": [
        "#Create a class name as driver having constructor having name,id,email\n",
        "class Driver:\n",
        "  def __init__(self,n,id,e):\n",
        "    self.name = n\n",
        "    self.id = id\n",
        "    self.email = e\n",
        "\n",
        "d1 = Driver(\"Abc\",101,\"abc@gmail.com\")\n",
        "print(d1.name,d1.id,d1.email)"
      ],
      "metadata": {
        "colab": {
          "base_uri": "https://localhost:8080/"
        },
        "id": "JSqH_00xg7jU",
        "outputId": "016f7525-aa3c-4bf2-96e0-9a4f28795d22"
      },
      "execution_count": null,
      "outputs": [
        {
          "output_type": "stream",
          "name": "stdout",
          "text": [
            "Abc 101 abc@gmail.com\n"
          ]
        }
      ]
    },
    {
      "cell_type": "code",
      "source": [
        "class Customer:\n",
        "  def __init__(self,i,n,e,w):\n",
        "    self.id = i\n",
        "    self.name = n\n",
        "    self.email = e\n",
        "    self.wallet = w\n",
        "\n",
        "c1 = Customer(1,\"kinsh\",\"kinsh@gmail.com\",10000)\n",
        "print(c1.id , c1.name , c1.email , c1.wallet)"
      ],
      "metadata": {
        "colab": {
          "base_uri": "https://localhost:8080/"
        },
        "id": "oK0HoyJfhrvM",
        "outputId": "fd67c553-17bf-452d-e2cc-8a68b13c0d45"
      },
      "execution_count": null,
      "outputs": [
        {
          "output_type": "stream",
          "name": "stdout",
          "text": [
            "1 kinsh kinsh@gmail.com 10000\n"
          ]
        }
      ]
    },
    {
      "cell_type": "code",
      "source": [
        "class Customer(Driver):\n",
        "  def __init__(self,i,n,e):\n",
        "    super().__init__(n,id,e)\n",
        "\n",
        "c1 = Customer(1,\"kinsh\",\"kinsh@gmail.com\")\n",
        "print(c1.name)"
      ],
      "metadata": {
        "colab": {
          "base_uri": "https://localhost:8080/"
        },
        "id": "_DSFG6DUjwfO",
        "outputId": "baafa450-64cd-4dfc-d699-1956e3a74728"
      },
      "execution_count": null,
      "outputs": [
        {
          "output_type": "stream",
          "name": "stdout",
          "text": [
            "kinsh\n"
          ]
        }
      ]
    },
    {
      "cell_type": "code",
      "source": [
        "#create a class name as employee with id,name,email nd salary and now create a function in which we have to find the monthly salary of employee and extract the domain\n",
        "class Employee:\n",
        "  def __init__(self,a,x,y,z):\n",
        "    self.id = a\n",
        "    self.name = x\n",
        "    self.email = y\n",
        "    self.salary = z\n",
        "  def info(self):\n",
        "    monthly_sal = self.salary // 12\n",
        "    return monthly_sal\n",
        "  def domain(self):\n",
        "    print(self.email.split(\"@\") [-1])\n",
        "e1 = Employee(101,\"Diya\",\"diya@gmail.com\",60000)\n",
        "print(e1.name)\n",
        "e1.info()"
      ],
      "metadata": {
        "colab": {
          "base_uri": "https://localhost:8080/"
        },
        "id": "F6fOKXHHlHB1",
        "outputId": "051176dd-4515-4603-c609-27ff6feafa31"
      },
      "execution_count": null,
      "outputs": [
        {
          "output_type": "stream",
          "name": "stdout",
          "text": [
            "Diya\n"
          ]
        },
        {
          "output_type": "execute_result",
          "data": {
            "text/plain": [
              "5000"
            ]
          },
          "metadata": {},
          "execution_count": 57
        }
      ]
    },
    {
      "cell_type": "code",
      "source": [
        "e1.domain()"
      ],
      "metadata": {
        "colab": {
          "base_uri": "https://localhost:8080/"
        },
        "id": "KCno_mw2osYX",
        "outputId": "ecdc3f45-d0d0-41e5-85a9-a21123488655"
      },
      "execution_count": null,
      "outputs": [
        {
          "output_type": "stream",
          "name": "stdout",
          "text": [
            "gmail.com\n"
          ]
        }
      ]
    }
  ]
}
