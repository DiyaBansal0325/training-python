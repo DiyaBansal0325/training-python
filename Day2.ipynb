{
  "nbformat": 4,
  "nbformat_minor": 0,
  "metadata": {
    "colab": {
      "provenance": [],
      "authorship_tag": "ABX9TyOh/44UDiW8KbDYCtLxfggE",
      "include_colab_link": true
    },
    "kernelspec": {
      "name": "python3",
      "display_name": "Python 3"
    },
    "language_info": {
      "name": "python"
    }
  },
  "cells": [
    {
      "cell_type": "markdown",
      "metadata": {
        "id": "view-in-github",
        "colab_type": "text"
      },
      "source": [
        "<a href=\"https://colab.research.google.com/github/DiyaBansal0325/training-python/blob/main/Day2.ipynb\" target=\"_parent\"><img src=\"https://colab.research.google.com/assets/colab-badge.svg\" alt=\"Open In Colab\"/></a>"
      ]
    },
    {
      "cell_type": "markdown",
      "source": [
        "#Loops - For Loop"
      ],
      "metadata": {
        "id": "16n9oxjaAMUD"
      }
    },
    {
      "cell_type": "code",
      "source": [
        "for i in range(2,8):\n",
        "  print(i)"
      ],
      "metadata": {
        "colab": {
          "base_uri": "https://localhost:8080/"
        },
        "id": "he4XYKMI--jD",
        "outputId": "db336128-a56b-426c-a5cd-2c3eb0d68eeb"
      },
      "execution_count": null,
      "outputs": [
        {
          "output_type": "stream",
          "name": "stdout",
          "text": [
            "2\n",
            "3\n",
            "4\n",
            "5\n",
            "6\n",
            "7\n"
          ]
        }
      ]
    },
    {
      "cell_type": "code",
      "source": [
        "for i in range(8,2,-1):\n",
        "  print(i)"
      ],
      "metadata": {
        "colab": {
          "base_uri": "https://localhost:8080/"
        },
        "id": "UPRjT5vQAkiN",
        "outputId": "6bb54fb5-25de-4b84-af43-f36565183195"
      },
      "execution_count": null,
      "outputs": [
        {
          "output_type": "stream",
          "name": "stdout",
          "text": [
            "8\n",
            "7\n",
            "6\n",
            "5\n",
            "4\n",
            "3\n"
          ]
        }
      ]
    },
    {
      "cell_type": "code",
      "source": [
        "#to get the sum of first 10 natural numbers\n",
        "total = 0\n",
        "for i in range(1,11):\n",
        "  total = total + i\n",
        "  print(i,total)\n",
        "print(total)"
      ],
      "metadata": {
        "colab": {
          "base_uri": "https://localhost:8080/"
        },
        "id": "ZTLdOknSAxmg",
        "outputId": "79614a06-60db-4bba-f053-b5bdb90356ae"
      },
      "execution_count": null,
      "outputs": [
        {
          "output_type": "stream",
          "name": "stdout",
          "text": [
            "1 1\n",
            "2 3\n",
            "3 6\n",
            "4 10\n",
            "5 15\n",
            "6 21\n",
            "7 28\n",
            "8 36\n",
            "9 45\n",
            "10 55\n",
            "55\n"
          ]
        }
      ]
    },
    {
      "cell_type": "code",
      "source": [
        "count = 0\n",
        "for i in range(80,56,-1):\n",
        "  count = count + 1\n",
        "  print(i,count)\n",
        "print(count)"
      ],
      "metadata": {
        "colab": {
          "base_uri": "https://localhost:8080/"
        },
        "id": "1QI1bHe1BoZG",
        "outputId": "58d1e74c-aca9-4d60-ca50-76047339d1da"
      },
      "execution_count": null,
      "outputs": [
        {
          "output_type": "stream",
          "name": "stdout",
          "text": [
            "80 1\n",
            "79 2\n",
            "78 3\n",
            "77 4\n",
            "76 5\n",
            "75 6\n",
            "74 7\n",
            "73 8\n",
            "72 9\n",
            "71 10\n",
            "70 11\n",
            "69 12\n",
            "68 13\n",
            "67 14\n",
            "66 15\n",
            "65 16\n",
            "64 17\n",
            "63 18\n",
            "62 19\n",
            "61 20\n",
            "60 21\n",
            "59 22\n",
            "58 23\n",
            "57 24\n",
            "24\n"
          ]
        }
      ]
    },
    {
      "cell_type": "code",
      "source": [
        "# Take range 20 - 55 and print those numbers which are divisible by 2 and 6\n",
        "for i in range(20,55):\n",
        "  if(i%2 == 0 and i%6 == 0):\n",
        "    print(i,\"Divided by 2 and 6\")\n"
      ],
      "metadata": {
        "colab": {
          "base_uri": "https://localhost:8080/"
        },
        "id": "vQIaxUYKCBXk",
        "outputId": "04e17c59-f3b9-4c0c-c62c-a03d30011fb7"
      },
      "execution_count": null,
      "outputs": [
        {
          "output_type": "stream",
          "name": "stdout",
          "text": [
            "24 Divided by 2 and 6\n",
            "30 Divided by 2 and 6\n",
            "36 Divided by 2 and 6\n",
            "42 Divided by 2 and 6\n",
            "48 Divided by 2 and 6\n",
            "54 Divided by 2 and 6\n"
          ]
        }
      ]
    },
    {
      "cell_type": "code",
      "source": [
        "#run a loop to find factors of 10\n",
        "num = 10\n",
        "for i in range(1,11):\n",
        "  if(num%i == 0):\n",
        "    print(\"factor is\",i)"
      ],
      "metadata": {
        "colab": {
          "base_uri": "https://localhost:8080/"
        },
        "id": "6r7Dke7VCkgr",
        "outputId": "b48649ac-a2c1-4544-b563-b241e43587cf"
      },
      "execution_count": null,
      "outputs": [
        {
          "output_type": "stream",
          "name": "stdout",
          "text": [
            "factor is 1\n",
            "factor is 2\n",
            "factor is 5\n",
            "factor is 10\n"
          ]
        }
      ]
    },
    {
      "cell_type": "code",
      "source": [
        "num = 45\n",
        "count = 0\n",
        "for i in range(1,46):\n",
        "  if(num%i == 0):\n",
        "    print(\"Factors are:\",i)\n",
        "    count = count +1\n",
        "print(\"Total factors are:\",count)"
      ],
      "metadata": {
        "colab": {
          "base_uri": "https://localhost:8080/"
        },
        "id": "JuhiglMTDhKA",
        "outputId": "6b5491ce-4c0a-42ab-ccf9-73219f9a2393"
      },
      "execution_count": null,
      "outputs": [
        {
          "output_type": "stream",
          "name": "stdout",
          "text": [
            "Factors are: 1\n",
            "Factors are: 3\n",
            "Factors are: 5\n",
            "Factors are: 9\n",
            "Factors are: 15\n",
            "Factors are: 45\n",
            "Total factors are: 6\n"
          ]
        }
      ]
    },
    {
      "cell_type": "code",
      "source": [
        "num = 14\n",
        "count = 0\n",
        "for i in range(1,num+1):\n",
        "  if(num%i == 0):\n",
        "    count = count +1\n",
        "if(count>2):\n",
        "  print(\"Not a prime number\",num)\n",
        "else:\n",
        "  print(\"Prime number\",num)\n",
        "print(\"Total factors are:\",count)"
      ],
      "metadata": {
        "colab": {
          "base_uri": "https://localhost:8080/"
        },
        "id": "AfMA08iXD4zO",
        "outputId": "1332f61d-71ae-4f43-9569-8e8f12ec13fd"
      },
      "execution_count": null,
      "outputs": [
        {
          "output_type": "stream",
          "name": "stdout",
          "text": [
            "Not a prime number 14\n",
            "Total factors are: 4\n"
          ]
        }
      ]
    },
    {
      "cell_type": "code",
      "source": [
        "for i in range(1,9):\n",
        "  if(i==4):\n",
        "    break\n",
        "  print(i)\n",
        "print(\"--outside--\")"
      ],
      "metadata": {
        "colab": {
          "base_uri": "https://localhost:8080/"
        },
        "id": "1_Fs2lXrEpMM",
        "outputId": "027c351d-bd27-4d4e-8c13-09bf63e9c7b2"
      },
      "execution_count": null,
      "outputs": [
        {
          "output_type": "stream",
          "name": "stdout",
          "text": [
            "1\n",
            "2\n",
            "3\n",
            "--outside--\n"
          ]
        }
      ]
    },
    {
      "cell_type": "code",
      "source": [
        "for i in range(1,9):\n",
        "  if(i==4):\n",
        "    continue\n",
        "  print(i)"
      ],
      "metadata": {
        "colab": {
          "base_uri": "https://localhost:8080/"
        },
        "id": "l3HdXp4mGOrJ",
        "outputId": "3d2f9667-1774-4a09-cc42-7880c39a65f3"
      },
      "execution_count": null,
      "outputs": [
        {
          "output_type": "stream",
          "name": "stdout",
          "text": [
            "1\n",
            "2\n",
            "3\n",
            "5\n",
            "6\n",
            "7\n",
            "8\n"
          ]
        }
      ]
    },
    {
      "cell_type": "code",
      "source": [
        "#for loop is used when we lnow the number of iteration\n",
        "#while loop is used when we have no idea of number of iteration"
      ],
      "metadata": {
        "id": "3pUALCajG0ob"
      },
      "execution_count": null,
      "outputs": []
    }
  ]
}