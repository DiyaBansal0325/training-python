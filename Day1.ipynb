{
  "nbformat": 4,
  "nbformat_minor": 0,
  "metadata": {
    "colab": {
      "provenance": [],
      "authorship_tag": "ABX9TyNlfQw48RZtp0Rn5qnkX4hB",
      "include_colab_link": true
    },
    "kernelspec": {
      "name": "python3",
      "display_name": "Python 3"
    },
    "language_info": {
      "name": "python"
    }
  },
  "cells": [
    {
      "cell_type": "markdown",
      "metadata": {
        "id": "view-in-github",
        "colab_type": "text"
      },
      "source": [
        "<a href=\"https://colab.research.google.com/github/DiyaBansal0325/training-python/blob/main/Day1.ipynb\" target=\"_parent\"><img src=\"https://colab.research.google.com/assets/colab-badge.svg\" alt=\"Open In Colab\"/></a>"
      ]
    },
    {
      "cell_type": "markdown",
      "source": [
        "#Simple Print Statements"
      ],
      "metadata": {
        "id": "iKaINcUF_ZRc"
      }
    },
    {
      "cell_type": "code",
      "execution_count": null,
      "metadata": {
        "colab": {
          "base_uri": "https://localhost:8080/"
        },
        "id": "kUZwVjp5Tf6A",
        "outputId": "70cf3ba0-1c09-4fc0-a0f6-c3643338a78f"
      },
      "outputs": [
        {
          "output_type": "stream",
          "name": "stdout",
          "text": [
            "hello world-hello diya\n"
          ]
        }
      ],
      "source": [
        "print(\"hello world\",end=\"-\")\n",
        "print(\"hello diya\")"
      ]
    },
    {
      "cell_type": "code",
      "source": [
        "print(\"hello world\",end=\"$\")\n",
        "print(\"hello diya\")\n",
        "print(\"user welcome\")"
      ],
      "metadata": {
        "colab": {
          "base_uri": "https://localhost:8080/"
        },
        "id": "Z_1nl5CdT-I-",
        "outputId": "c2ff9cd7-cc2e-4329-8876-491e3b7efca7"
      },
      "execution_count": null,
      "outputs": [
        {
          "output_type": "stream",
          "name": "stdout",
          "text": [
            "hello world$hello diya\n",
            "user welcome\n"
          ]
        }
      ]
    },
    {
      "cell_type": "markdown",
      "source": [
        "#Variable Declaration"
      ],
      "metadata": {
        "id": "CRMlt0SVV-9o"
      }
    },
    {
      "cell_type": "code",
      "source": [
        "x=10\n",
        "print( type(x) )"
      ],
      "metadata": {
        "colab": {
          "base_uri": "https://localhost:8080/"
        },
        "id": "DafFUr19U0MM",
        "outputId": "3e9d4447-591f-486a-dfed-f1ead8a66f0d"
      },
      "execution_count": null,
      "outputs": [
        {
          "output_type": "stream",
          "name": "stdout",
          "text": [
            "<class 'int'>\n"
          ]
        }
      ]
    },
    {
      "cell_type": "code",
      "source": [
        "x=\"10\"\n",
        "print( type(x) )"
      ],
      "metadata": {
        "colab": {
          "base_uri": "https://localhost:8080/"
        },
        "id": "VanN-4jGVAXK",
        "outputId": "b444e756-462c-445c-e596-7491c42d8353"
      },
      "execution_count": null,
      "outputs": [
        {
          "output_type": "stream",
          "name": "stdout",
          "text": [
            "<class 'str'>\n"
          ]
        }
      ]
    },
    {
      "cell_type": "code",
      "source": [
        "x='10'\n",
        "print( type(x) )"
      ],
      "metadata": {
        "colab": {
          "base_uri": "https://localhost:8080/"
        },
        "id": "gX7Q8DfnVGbu",
        "outputId": "17c0b24a-5af6-4cd7-fa0a-92e5ae21f263"
      },
      "execution_count": null,
      "outputs": [
        {
          "output_type": "stream",
          "name": "stdout",
          "text": [
            "<class 'str'>\n"
          ]
        }
      ]
    },
    {
      "cell_type": "code",
      "source": [
        "year = 2025\n",
        "company = \"regex software\"\n",
        "print(\"My year is\",year,\"Company name is => \",company)"
      ],
      "metadata": {
        "colab": {
          "base_uri": "https://localhost:8080/"
        },
        "id": "H4l3nXeYVKe0",
        "outputId": "ce9124f6-18df-4987-9588-a0c47dac5c2f"
      },
      "execution_count": null,
      "outputs": [
        {
          "output_type": "stream",
          "name": "stdout",
          "text": [
            "My year is 2025 Company name is =>  regex software\n"
          ]
        }
      ]
    },
    {
      "cell_type": "markdown",
      "source": [
        "#String Formatting => string readable format"
      ],
      "metadata": {
        "id": "6bTEMm9cWazz"
      }
    },
    {
      "cell_type": "code",
      "source": [
        "year = 2025\n",
        "company = \"regex software\"\n",
        "print( f\"My year is {year} Company name is => {company}\")"
      ],
      "metadata": {
        "colab": {
          "base_uri": "https://localhost:8080/"
        },
        "id": "Q-wVp6MYVsS3",
        "outputId": "5f1ea6a3-8f4c-4039-88f5-c1a9fa902865"
      },
      "execution_count": null,
      "outputs": [
        {
          "output_type": "stream",
          "name": "stdout",
          "text": [
            "My year is 2025 Company name is => regex software\n"
          ]
        }
      ]
    },
    {
      "cell_type": "markdown",
      "source": [
        "#Multi line string"
      ],
      "metadata": {
        "id": "uWP_OQR9Xcap"
      }
    },
    {
      "cell_type": "code",
      "source": [
        "address = \"\"\"B-35 Gopalpura Tonk Road\n",
        "Jaipur Rajasthan 302018\"\"\"\n",
        "print(address)"
      ],
      "metadata": {
        "colab": {
          "base_uri": "https://localhost:8080/"
        },
        "id": "WKf_bTuDW73e",
        "outputId": "ca3da55f-3f6b-4a35-9c84-ec26ef7962d6"
      },
      "execution_count": null,
      "outputs": [
        {
          "output_type": "stream",
          "name": "stdout",
          "text": [
            "B-35 Gopalpura Tonk Road\n",
            "Jaipur Rajasthan 302018\n"
          ]
        }
      ]
    },
    {
      "cell_type": "code",
      "source": [
        "# single line comment\n",
        "'''\n",
        " multiline comment\n",
        "'''"
      ],
      "metadata": {
        "id": "pUd3q-3EYBSW"
      },
      "execution_count": null,
      "outputs": []
    },
    {
      "cell_type": "code",
      "source": [
        "#variables, datatypes, string formatting\n",
        "year = 2025\n",
        "company = \"regex software\"\n",
        "output = f\"My year is {year} Company name is => {company}\"\n",
        "print(output)"
      ],
      "metadata": {
        "colab": {
          "base_uri": "https://localhost:8080/"
        },
        "id": "3Eb8aUjKYGmf",
        "outputId": "50b7c0b2-4110-4917-bff6-e174e7561313"
      },
      "execution_count": null,
      "outputs": [
        {
          "output_type": "stream",
          "name": "stdout",
          "text": [
            "My year is 2025 Company name is => regex software\n"
          ]
        }
      ]
    },
    {
      "cell_type": "code",
      "source": [
        "username = \"Diya\"\n",
        "msg = f\"Happy Birthday {username}\"\n",
        "print(msg)\n",
        "username = \"Isha\"\n",
        "print(msg)"
      ],
      "metadata": {
        "colab": {
          "base_uri": "https://localhost:8080/"
        },
        "id": "kszE9NGMYn-K",
        "outputId": "52828205-f9a8-4349-bf20-362bef961d4e"
      },
      "execution_count": null,
      "outputs": [
        {
          "output_type": "stream",
          "name": "stdout",
          "text": [
            "Happy Birthday Diya\n",
            "Happy Birthday Diya\n"
          ]
        }
      ]
    },
    {
      "cell_type": "markdown",
      "source": [
        "#Operators"
      ],
      "metadata": {
        "id": "hyT-2HNcfEsv"
      }
    },
    {
      "cell_type": "code",
      "source": [
        "#Basic idea on operator\n",
        "#arithmetic\n",
        "# = - * %\n",
        "# normal division => float ans\n",
        "10/2"
      ],
      "metadata": {
        "colab": {
          "base_uri": "https://localhost:8080/"
        },
        "id": "u0kIGeTUY-ws",
        "outputId": "b43c688b-1a7e-4ed9-d3c4-7e86c2ec0812"
      },
      "execution_count": null,
      "outputs": [
        {
          "output_type": "execute_result",
          "data": {
            "text/plain": [
              "5.0"
            ]
          },
          "metadata": {},
          "execution_count": 25
        }
      ]
    },
    {
      "cell_type": "code",
      "source": [
        "10//2    #float division => int ans"
      ],
      "metadata": {
        "colab": {
          "base_uri": "https://localhost:8080/"
        },
        "id": "5F_EV_bVZUcE",
        "outputId": "3056d7e0-230a-4719-bdc7-8f892cc47183"
      },
      "execution_count": null,
      "outputs": [
        {
          "output_type": "execute_result",
          "data": {
            "text/plain": [
              "5"
            ]
          },
          "metadata": {},
          "execution_count": 27
        }
      ]
    },
    {
      "cell_type": "code",
      "source": [
        "# float is a larger datatype\n",
        "5.0 + 2"
      ],
      "metadata": {
        "colab": {
          "base_uri": "https://localhost:8080/"
        },
        "id": "0r8d7O9IZatf",
        "outputId": "04a3da0d-e933-4ce5-eaaf-93220ee616da"
      },
      "execution_count": null,
      "outputs": [
        {
          "output_type": "execute_result",
          "data": {
            "text/plain": [
              "7.0"
            ]
          },
          "metadata": {},
          "execution_count": 28
        }
      ]
    },
    {
      "cell_type": "code",
      "source": [
        "10%3"
      ],
      "metadata": {
        "colab": {
          "base_uri": "https://localhost:8080/"
        },
        "id": "kaVvfemLZf8O",
        "outputId": "8992c8a8-c8bf-4b9c-e674-810b7f6b2593"
      },
      "execution_count": null,
      "outputs": [
        {
          "output_type": "execute_result",
          "data": {
            "text/plain": [
              "1"
            ]
          },
          "metadata": {},
          "execution_count": 29
        }
      ]
    },
    {
      "cell_type": "code",
      "source": [
        "2**3\n",
        "#2*2*2"
      ],
      "metadata": {
        "colab": {
          "base_uri": "https://localhost:8080/"
        },
        "id": "kD2rJEUjZuJh",
        "outputId": "01e143d8-c6a8-4eab-878b-543906b28c5f"
      },
      "execution_count": null,
      "outputs": [
        {
          "output_type": "execute_result",
          "data": {
            "text/plain": [
              "8"
            ]
          },
          "metadata": {},
          "execution_count": 33
        }
      ]
    },
    {
      "cell_type": "code",
      "source": [
        "4**3\n",
        "#4*4*4"
      ],
      "metadata": {
        "colab": {
          "base_uri": "https://localhost:8080/"
        },
        "id": "nd_bH9ApZxx_",
        "outputId": "050fa974-773c-4f96-c8bb-b42d6a7291b5"
      },
      "execution_count": null,
      "outputs": [
        {
          "output_type": "execute_result",
          "data": {
            "text/plain": [
              "64"
            ]
          },
          "metadata": {},
          "execution_count": 32
        }
      ]
    },
    {
      "cell_type": "code",
      "source": [
        "20+2*3/3-1"
      ],
      "metadata": {
        "colab": {
          "base_uri": "https://localhost:8080/"
        },
        "id": "58gw8VIbZ7WN",
        "outputId": "4b0de939-ed78-405d-ca77-b49fbf5de6b6"
      },
      "execution_count": null,
      "outputs": [
        {
          "output_type": "execute_result",
          "data": {
            "text/plain": [
              "21.0"
            ]
          },
          "metadata": {},
          "execution_count": 34
        }
      ]
    },
    {
      "cell_type": "code",
      "source": [
        "10*2-3**2"
      ],
      "metadata": {
        "colab": {
          "base_uri": "https://localhost:8080/"
        },
        "id": "ycJSQoVYaTPi",
        "outputId": "20a1ea16-c442-4658-fff0-82cc5b4c8f38"
      },
      "execution_count": null,
      "outputs": [
        {
          "output_type": "execute_result",
          "data": {
            "text/plain": [
              "11"
            ]
          },
          "metadata": {},
          "execution_count": 35
        }
      ]
    },
    {
      "cell_type": "code",
      "source": [
        "# Comparision Operator => True/False\n",
        "# >, <, >=, <=, !=, ==\n",
        "10>2"
      ],
      "metadata": {
        "colab": {
          "base_uri": "https://localhost:8080/"
        },
        "id": "DZ0oJrgQancM",
        "outputId": "01cdbbed-d4fb-4148-f845-2d9cfbf75dc3"
      },
      "execution_count": null,
      "outputs": [
        {
          "output_type": "execute_result",
          "data": {
            "text/plain": [
              "True"
            ]
          },
          "metadata": {},
          "execution_count": 36
        }
      ]
    },
    {
      "cell_type": "code",
      "source": [
        "#logical operators -> and or not\n",
        "10>2 and 10>5"
      ],
      "metadata": {
        "colab": {
          "base_uri": "https://localhost:8080/"
        },
        "id": "axDq_5Mva5LA",
        "outputId": "36376046-7999-4f99-bf83-d5fa4393491d"
      },
      "execution_count": null,
      "outputs": [
        {
          "output_type": "execute_result",
          "data": {
            "text/plain": [
              "True"
            ]
          },
          "metadata": {},
          "execution_count": 38
        }
      ]
    },
    {
      "cell_type": "markdown",
      "source": [
        "#If-Else Statements"
      ],
      "metadata": {
        "id": "gqZyLW6Ee_Ha"
      }
    },
    {
      "cell_type": "code",
      "source": [
        "a = 4\n",
        "if(a>5):\n",
        "  print(\"Hey\")\n",
        "else:\n",
        "  print(\"condition is false\")"
      ],
      "metadata": {
        "colab": {
          "base_uri": "https://localhost:8080/"
        },
        "id": "OgWNCVajbAoj",
        "outputId": "fb6d6545-fbdf-4fa0-c9a5-4efc4bd26439"
      },
      "execution_count": null,
      "outputs": [
        {
          "output_type": "stream",
          "name": "stdout",
          "text": [
            "condition is false\n"
          ]
        }
      ]
    },
    {
      "cell_type": "code",
      "source": [
        "a = 4\n",
        "if(a>5 or a>2):\n",
        "  print(\"Hey\")\n",
        "else:\n",
        "  print(\"condition is false\")"
      ],
      "metadata": {
        "colab": {
          "base_uri": "https://localhost:8080/"
        },
        "id": "9oO6s3n6brpJ",
        "outputId": "d4b12016-5cd3-446d-ea56-f584e2e0e982"
      },
      "execution_count": null,
      "outputs": [
        {
          "output_type": "stream",
          "name": "stdout",
          "text": [
            "Hey\n"
          ]
        }
      ]
    },
    {
      "cell_type": "code",
      "source": [
        "a = 4\n",
        "if(a>5 or a>2):\n",
        "  print(\"Hey\")\n",
        "elif(a==10):\n",
        "  print(\"value of a is 10\")\n",
        "else:\n",
        "  print(\"condition is false\")"
      ],
      "metadata": {
        "colab": {
          "base_uri": "https://localhost:8080/"
        },
        "id": "aocvcUItbyBx",
        "outputId": "fa15e054-a85f-4055-a09b-3b53e870f003"
      },
      "execution_count": null,
      "outputs": [
        {
          "output_type": "stream",
          "name": "stdout",
          "text": [
            "Hey\n"
          ]
        }
      ]
    },
    {
      "cell_type": "code",
      "source": [
        "#take 3 variables and find the smallest number\n",
        "a=10\n",
        "b=5\n",
        "c=2\n",
        "if(a<b and a<c):\n",
        "  print(\"a is minimum\")\n",
        "elif(b<a and b<c):\n",
        "  print(\"b is minimum\")\n",
        "else:\n",
        "  print(\"c is minimum\")"
      ],
      "metadata": {
        "colab": {
          "base_uri": "https://localhost:8080/"
        },
        "id": "NALSOBMpcIt7",
        "outputId": "bb0a6613-fe0d-4f0b-8135-61912b30fbc6"
      },
      "execution_count": null,
      "outputs": [
        {
          "output_type": "stream",
          "name": "stdout",
          "text": [
            "c is minimum\n"
          ]
        }
      ]
    },
    {
      "cell_type": "code",
      "source": [
        "#take a variable age and if age is >18 print adult if age >25 print married anf if >45 print citizen anf otherwise print child\n",
        "age = 30\n",
        "if(age > 45):\n",
        "  print(\"Citizen\")\n",
        "elif(age > 25):\n",
        "  print(\"Married\")\n",
        "elif(age > 18):\n",
        "  print(\"Adult\")\n",
        "else:\n",
        "  print(\"Child\")"
      ],
      "metadata": {
        "colab": {
          "base_uri": "https://localhost:8080/"
        },
        "id": "md6_s7vpcj8P",
        "outputId": "ea32a9f7-2c4d-45f2-e68e-a6676ce0ea84"
      },
      "execution_count": null,
      "outputs": [
        {
          "output_type": "stream",
          "name": "stdout",
          "text": [
            "Married\n"
          ]
        }
      ]
    },
    {
      "cell_type": "code",
      "source": [
        "#Nested if-else\n",
        "num=12\n",
        "if(num%2==0):\n",
        "\n",
        "  if(num%5==0):\n",
        "    print(\"number is even and divided by 5\")\n",
        "  else:\n",
        "    print(\"number is only even\",num)\n",
        "else:\n",
        "  print(\"Number is odd\",num)"
      ],
      "metadata": {
        "colab": {
          "base_uri": "https://localhost:8080/"
        },
        "id": "jRr_vH4wdTXk",
        "outputId": "38555910-7b94-422e-96de-0d7ee6673fa6"
      },
      "execution_count": null,
      "outputs": [
        {
          "output_type": "stream",
          "name": "stdout",
          "text": [
            "number is only even 12\n"
          ]
        }
      ]
    },
    {
      "cell_type": "markdown",
      "source": [
        "#string slicing and indexing"
      ],
      "metadata": {
        "id": "KBAUDIa8_Tiw"
      }
    },
    {
      "cell_type": "code",
      "source": [
        "city = \"RAJASTHAN\"\n",
        "print( city[2] )\n",
        "print(city[-3])"
      ],
      "metadata": {
        "colab": {
          "base_uri": "https://localhost:8080/"
        },
        "id": "j6pfYz3QgNf4",
        "outputId": "4aa24c74-0e71-4181-8455-9618f1d74062"
      },
      "execution_count": null,
      "outputs": [
        {
          "output_type": "stream",
          "name": "stdout",
          "text": [
            "J\n",
            "H\n"
          ]
        }
      ]
    },
    {
      "cell_type": "code",
      "source": [
        "#slicing => extracting some portion of your data\n",
        "#[ start : stop : [step=1(by default)] ]"
      ],
      "metadata": {
        "id": "d9-T_aMdhFLo"
      },
      "execution_count": null,
      "outputs": []
    },
    {
      "cell_type": "code",
      "source": [
        "city = \"RAJASTHAN\"\n",
        "print( city[0:4])         #ending values are excluded"
      ],
      "metadata": {
        "colab": {
          "base_uri": "https://localhost:8080/"
        },
        "id": "xF0N1xR_hre1",
        "outputId": "3392412c-36cb-4145-8f79-96b7fa5fcef0"
      },
      "execution_count": null,
      "outputs": [
        {
          "output_type": "stream",
          "name": "stdout",
          "text": [
            "RAJA\n"
          ]
        }
      ]
    },
    {
      "cell_type": "code",
      "source": [
        "city = \"RAJASTHAN\"\n",
        "print( city[1:5])"
      ],
      "metadata": {
        "colab": {
          "base_uri": "https://localhost:8080/"
        },
        "id": "GIQ0Om-Rh3A-",
        "outputId": "92e5e34d-57f6-40e8-de12-e66c5b6b804e"
      },
      "execution_count": null,
      "outputs": [
        {
          "output_type": "stream",
          "name": "stdout",
          "text": [
            "AJAS\n"
          ]
        }
      ]
    },
    {
      "cell_type": "code",
      "source": [
        "city = \"RAJASTHAN\"\n",
        "print( city[2:])"
      ],
      "metadata": {
        "colab": {
          "base_uri": "https://localhost:8080/"
        },
        "id": "ZYB-fu09h5_Q",
        "outputId": "b301becd-10fb-49b9-fbd8-c73a3dfc29e0"
      },
      "execution_count": null,
      "outputs": [
        {
          "output_type": "stream",
          "name": "stdout",
          "text": [
            "JASTHAN\n"
          ]
        }
      ]
    },
    {
      "cell_type": "code",
      "source": [
        "city = \"RAJASTHAN\"\n",
        "print( city[:4])"
      ],
      "metadata": {
        "colab": {
          "base_uri": "https://localhost:8080/"
        },
        "id": "i2xOFZOlh-MS",
        "outputId": "ffc7fc47-4a60-49b0-e028-02cdada9491d"
      },
      "execution_count": null,
      "outputs": [
        {
          "output_type": "stream",
          "name": "stdout",
          "text": [
            "RAJA\n"
          ]
        }
      ]
    },
    {
      "cell_type": "code",
      "source": [
        "city = \"RAJASTHAN\"\n",
        "print( city[0:4])"
      ],
      "metadata": {
        "colab": {
          "base_uri": "https://localhost:8080/"
        },
        "id": "dTQz12JIiBzz",
        "outputId": "a270790a-850d-4138-feda-3f0c8af42510"
      },
      "execution_count": null,
      "outputs": [
        {
          "output_type": "stream",
          "name": "stdout",
          "text": [
            "RAJA\n"
          ]
        }
      ]
    },
    {
      "cell_type": "code",
      "source": [
        "city = \"RAJASTHAN\"\n",
        "print( city[0:4:1])"
      ],
      "metadata": {
        "colab": {
          "base_uri": "https://localhost:8080/"
        },
        "id": "uArNnc31iZYB",
        "outputId": "633b94a7-40be-4919-e6f9-8fedbdba12ad"
      },
      "execution_count": null,
      "outputs": [
        {
          "output_type": "stream",
          "name": "stdout",
          "text": [
            "RAJA\n"
          ]
        }
      ]
    },
    {
      "cell_type": "code",
      "source": [
        "city = \"RAJASTHAN\"\n",
        "print( city[0:4:2])"
      ],
      "metadata": {
        "colab": {
          "base_uri": "https://localhost:8080/"
        },
        "id": "wiHdtfneigtV",
        "outputId": "4de61259-6422-4424-c54d-21ba4faeff99"
      },
      "execution_count": null,
      "outputs": [
        {
          "output_type": "stream",
          "name": "stdout",
          "text": [
            "RJ\n"
          ]
        }
      ]
    },
    {
      "cell_type": "code",
      "source": [
        "city = \"RAJASTHAN\"\n",
        "print( city[1:6:1])"
      ],
      "metadata": {
        "colab": {
          "base_uri": "https://localhost:8080/"
        },
        "id": "_g7fH1exi0aX",
        "outputId": "df62a769-fe29-4157-e537-daaf395cbf37"
      },
      "execution_count": null,
      "outputs": [
        {
          "output_type": "stream",
          "name": "stdout",
          "text": [
            "AJAST\n"
          ]
        }
      ]
    },
    {
      "cell_type": "code",
      "source": [
        "city = \"RAJASTHAN\"\n",
        "print( city[1:6:2])"
      ],
      "metadata": {
        "colab": {
          "base_uri": "https://localhost:8080/"
        },
        "id": "KEyXk6uFjB96",
        "outputId": "78e86d01-d814-47d1-fc8d-2f3b85203924"
      },
      "execution_count": null,
      "outputs": [
        {
          "output_type": "stream",
          "name": "stdout",
          "text": [
            "AAT\n"
          ]
        }
      ]
    },
    {
      "cell_type": "code",
      "source": [
        "city = \"RAJASTHAN\"\n",
        "print( city[0:5:3])"
      ],
      "metadata": {
        "colab": {
          "base_uri": "https://localhost:8080/"
        },
        "id": "8dZDeqHBjJVT",
        "outputId": "11a586e9-5f8a-4ad9-e018-8f9a84f28522"
      },
      "execution_count": null,
      "outputs": [
        {
          "output_type": "stream",
          "name": "stdout",
          "text": [
            "RA\n"
          ]
        }
      ]
    },
    {
      "cell_type": "code",
      "source": [
        "city = \"RAJASTHAN\"\n",
        "print( city[0:5:10])"
      ],
      "metadata": {
        "colab": {
          "base_uri": "https://localhost:8080/"
        },
        "id": "VZ8sudr9jTSI",
        "outputId": "a32658bd-8f71-4dd6-f47a-29b19b6813e4"
      },
      "execution_count": null,
      "outputs": [
        {
          "output_type": "stream",
          "name": "stdout",
          "text": [
            "R\n"
          ]
        }
      ]
    },
    {
      "cell_type": "code",
      "source": [
        "city = \"RAJASTHAN\"\n",
        "print( city[0:5:-1])"
      ],
      "metadata": {
        "colab": {
          "base_uri": "https://localhost:8080/"
        },
        "id": "D8qqVqbYjbj8",
        "outputId": "edc95cff-5278-430f-a26a-db7a8f11857d"
      },
      "execution_count": null,
      "outputs": [
        {
          "output_type": "stream",
          "name": "stdout",
          "text": [
            "\n"
          ]
        }
      ]
    },
    {
      "cell_type": "code",
      "source": [
        "city = \"RAJASTHAN\"\n",
        "print( city[-1:-4])"
      ],
      "metadata": {
        "colab": {
          "base_uri": "https://localhost:8080/"
        },
        "id": "vIYaax44jqhk",
        "outputId": "931f8060-0bb0-4844-d7bd-0f39f221eb9e"
      },
      "execution_count": null,
      "outputs": [
        {
          "output_type": "stream",
          "name": "stdout",
          "text": [
            "\n"
          ]
        }
      ]
    },
    {
      "cell_type": "code",
      "source": [
        "city = \"RAJASTHAN\"\n",
        "print( city[-1:-4:-1])"
      ],
      "metadata": {
        "colab": {
          "base_uri": "https://localhost:8080/"
        },
        "id": "pXr_FcNaj2Yk",
        "outputId": "7f04f9a6-3697-40f9-8300-4497093c3570"
      },
      "execution_count": null,
      "outputs": [
        {
          "output_type": "stream",
          "name": "stdout",
          "text": [
            "NAH\n"
          ]
        }
      ]
    },
    {
      "cell_type": "markdown",
      "source": [
        "#learning assignments:"
      ],
      "metadata": {
        "id": "lXCBj7xt_kiV"
      }
    },
    {
      "cell_type": "code",
      "source": [
        "\n",
        "#Membership operators => operators which checks whether an object is member in a sequence\n",
        "#identity operators => operators which compare two objects whether they are of same data type and share same memory location\n",
        "#Bitwise ANd operator => Results 1 if both the bits compare are having bit 1, if not than results 0\n",
        "#Bitwise OR operator => Results 1 if any one bit of both bits compared has 1, if both bit has 0 than results 0\n",
        "#String Indexing => Revise\n",
        "#If-else"
      ],
      "metadata": {
        "id": "V8vkhA-SkCQ6"
      },
      "execution_count": null,
      "outputs": []
    },
    {
      "cell_type": "markdown",
      "source": [
        "#If-else Assignments"
      ],
      "metadata": {
        "id": "XPVM9hr5_MCq"
      }
    },
    {
      "cell_type": "code",
      "source": [
        "#Q1\n",
        "num = int(input(\"Enter a number to check even or odd:\"))\n",
        "if(num%2 == 0):\n",
        "  print(\"number is even\")\n",
        "else:\n",
        "  print(\"number is odd\")"
      ],
      "metadata": {
        "colab": {
          "base_uri": "https://localhost:8080/"
        },
        "id": "UsUdFHPDlF01",
        "outputId": "463e1802-21cc-404a-cf72-1bd36ca345ab"
      },
      "execution_count": null,
      "outputs": [
        {
          "output_type": "stream",
          "name": "stdout",
          "text": [
            "Enter a number to check even or odd:77\n",
            "number is odd\n"
          ]
        }
      ]
    },
    {
      "cell_type": "code",
      "source": [
        "#Q2\n",
        "a = int(input(\"Enter First number:\"))\n",
        "b = int(input(\"Enter Second number:\"))\n",
        "c = int(input(\"Enter Third number:\"))\n",
        "if(a>b and a>c):\n",
        "  print(\"a is largest\")\n",
        "elif(b>a and b>c):\n",
        "  print(\"b is largest\")\n",
        "else:\n",
        "  print(\"c is largest\")"
      ],
      "metadata": {
        "id": "uICLxfXYl5EW",
        "colab": {
          "base_uri": "https://localhost:8080/"
        },
        "outputId": "da939a51-d111-4dc8-f301-cb8402854d18"
      },
      "execution_count": null,
      "outputs": [
        {
          "output_type": "stream",
          "name": "stdout",
          "text": [
            "Enter First number:55\n",
            "Enter Second number:20\n",
            "Enter Third number:11\n",
            "a is largest\n"
          ]
        }
      ]
    },
    {
      "cell_type": "code",
      "source": [
        "#Q3\n",
        "year = int(input(\"Enter the year to check for leap year:\"))\n",
        "if(year%4==0 or year%400==0):\n",
        "  print(\"year is leap year\")\n",
        "else:\n",
        "  print(\"year is not a leap year\")"
      ],
      "metadata": {
        "id": "ECJ-yWcmmRvd",
        "colab": {
          "base_uri": "https://localhost:8080/"
        },
        "outputId": "8dab7b95-4a56-49d4-8cbd-b3605e7e820a"
      },
      "execution_count": null,
      "outputs": [
        {
          "output_type": "stream",
          "name": "stdout",
          "text": [
            "Enter the year to check for leap year:2005\n",
            "year is not a leap year\n"
          ]
        }
      ]
    },
    {
      "cell_type": "code",
      "source": [
        "#Q4\n",
        "res = int(input(\"Enter the marks in % :\"))\n",
        "if(res >= 90):\n",
        "  print(\"Grade A\")\n",
        "elif(res >= 80):\n",
        "  print(\"Grade B\")\n",
        "elif(res >= 70):\n",
        "  print(\"Grade c\")\n",
        "elif(res >= 60):\n",
        "  print(\"Grade D\")\n",
        "else:\n",
        "  print(\"Grade F\")"
      ],
      "metadata": {
        "id": "XhEtu-T2m9dh",
        "colab": {
          "base_uri": "https://localhost:8080/"
        },
        "outputId": "6b9cd067-c1b5-4889-9f65-3e779b7ff3ec"
      },
      "execution_count": null,
      "outputs": [
        {
          "output_type": "stream",
          "name": "stdout",
          "text": [
            "Enter the % marks:55\n",
            "Grade F\n"
          ]
        }
      ]
    },
    {
      "cell_type": "code",
      "source": [
        "#Q5\n",
        "ltr = input(\"Enter any letter to check it's a vowel or not:\")\n",
        "if(ltr in ('a','e','i','o','u')):\n",
        "  print(\"Entered letter is vowel\",ltr)\n",
        "else:\n",
        "  print(\"Entered letter is consonant\")"
      ],
      "metadata": {
        "id": "D7-JIuLznqhG",
        "colab": {
          "base_uri": "https://localhost:8080/"
        },
        "outputId": "b31e5f9a-6a6e-4c7c-d130-42e7abec34bc"
      },
      "execution_count": null,
      "outputs": [
        {
          "output_type": "stream",
          "name": "stdout",
          "text": [
            "Enter any letter to check it's a vowel or not:k\n",
            "Entered letter is consonant\n"
          ]
        }
      ]
    },
    {
      "cell_type": "code",
      "source": [
        "#Q6\n",
        "num1 = float(input(\"Enter the first number: \"))\n",
        "operator = input(\"Enter an operator (+, -, *, /): \")\n",
        "num2 = float(input(\"Enter the second number: \"))\n",
        "if operator == '+':\n",
        "    result = num1 + num2\n",
        "elif operator == '-':\n",
        "    result = num1 - num2\n",
        "elif operator == '*':\n",
        "    result = num1 * num2\n",
        "elif operator == '/':\n",
        "    if num2 != 0:\n",
        "        result = num1 / num2\n",
        "    else:\n",
        "        result = \"Error: Division by zero\"\n",
        "else:\n",
        "    result = \"Invalid operator\"\n",
        "print(\"Result:\", result)"
      ],
      "metadata": {
        "id": "FSdi8ZAxqs20",
        "colab": {
          "base_uri": "https://localhost:8080/"
        },
        "outputId": "2b8e149c-98a8-4e73-b5d5-ed2aa7050f83"
      },
      "execution_count": null,
      "outputs": [
        {
          "output_type": "stream",
          "name": "stdout",
          "text": [
            "Enter the first number: 20\n",
            "Enter an operator (+, -, *, /): /\n",
            "Enter the second number: 0\n",
            "Result: Error: Division by zero\n"
          ]
        }
      ]
    },
    {
      "cell_type": "code",
      "source": [
        "#Q7\n",
        "num = int(input(\"Enter a number:\"))\n",
        "if(num>0):\n",
        "  print(\"Number is positive\")\n",
        "elif(num<0):\n",
        "  print(\"Number is negative\")\n",
        "else:\n",
        "  print(\"Number is zero\")"
      ],
      "metadata": {
        "colab": {
          "base_uri": "https://localhost:8080/"
        },
        "id": "iikgcCmiDicv",
        "outputId": "d086bf55-fa4f-4084-c51c-68138dad637c"
      },
      "execution_count": null,
      "outputs": [
        {
          "output_type": "stream",
          "name": "stdout",
          "text": [
            "Enter a number:-98597\n",
            "Number is negative\n"
          ]
        }
      ]
    },
    {
      "cell_type": "code",
      "source": [
        "#Swapping 2 variables using a third temperorary variable\n",
        "a = 20\n",
        "b = 40\n",
        "print(a)\n",
        "print(b)\n",
        "temp = a\n",
        "a = b\n",
        "b = temp\n",
        "print(a)\n",
        "print(b)"
      ],
      "metadata": {
        "id": "QrIg7yxXEIQB",
        "colab": {
          "base_uri": "https://localhost:8080/"
        },
        "outputId": "4ae9e042-9e08-4dae-879b-2f4fb3412bfc"
      },
      "execution_count": null,
      "outputs": [
        {
          "output_type": "stream",
          "name": "stdout",
          "text": [
            "20\n",
            "40\n",
            "40\n",
            "20\n"
          ]
        }
      ]
    },
    {
      "cell_type": "code",
      "source": [
        "#Swapping two variables without using any third temperary variable\n",
        "a = 20\n",
        "b = 40\n",
        "print(a)\n",
        "print(b)\n",
        "a = a+b\n",
        "b = a-b\n",
        "a = a-b\n",
        "print(a)\n",
        "print(b)"
      ],
      "metadata": {
        "colab": {
          "base_uri": "https://localhost:8080/"
        },
        "id": "SsRS5adMyYYN",
        "outputId": "0c04f94e-2b13-4e22-bba9-18d21a1a9f65"
      },
      "execution_count": null,
      "outputs": [
        {
          "output_type": "stream",
          "name": "stdout",
          "text": [
            "20\n",
            "40\n",
            "40\n",
            "20\n"
          ]
        }
      ]
    }
  ]
}