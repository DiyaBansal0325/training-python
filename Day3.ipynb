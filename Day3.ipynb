{
  "nbformat": 4,
  "nbformat_minor": 0,
  "metadata": {
    "colab": {
      "provenance": [],
      "authorship_tag": "ABX9TyOka1WgA4uxLezq44tDi0HS",
      "include_colab_link": true
    },
    "kernelspec": {
      "name": "python3",
      "display_name": "Python 3"
    },
    "language_info": {
      "name": "python"
    }
  },
  "cells": [
    {
      "cell_type": "markdown",
      "metadata": {
        "id": "view-in-github",
        "colab_type": "text"
      },
      "source": [
        "<a href=\"https://colab.research.google.com/github/DiyaBansal0325/training-python/blob/main/Day3.ipynb\" target=\"_parent\"><img src=\"https://colab.research.google.com/assets/colab-badge.svg\" alt=\"Open In Colab\"/></a>"
      ]
    },
    {
      "cell_type": "markdown",
      "source": [
        "#While Loop"
      ],
      "metadata": {
        "id": "B2HFdNylH3lU"
      }
    },
    {
      "cell_type": "code",
      "source": [
        "#while(condition):\n",
        "#  execute\n",
        "i=1\n",
        "while(i<10):\n",
        "  print(\"Hello\",i)\n",
        "  i+=1"
      ],
      "metadata": {
        "colab": {
          "base_uri": "https://localhost:8080/"
        },
        "id": "7NCllV6yH6XG",
        "outputId": "c74a7ec8-633d-403d-a46c-dd200561351c"
      },
      "execution_count": null,
      "outputs": [
        {
          "output_type": "stream",
          "name": "stdout",
          "text": [
            "Hello 1\n",
            "Hello 2\n",
            "Hello 3\n",
            "Hello 4\n",
            "Hello 5\n",
            "Hello 6\n",
            "Hello 7\n",
            "Hello 8\n",
            "Hello 9\n"
          ]
        }
      ]
    },
    {
      "cell_type": "code",
      "source": [
        "#WAP in python if user gives input 1 than program should show all files from your desktop, if user gives 2 than it creates a file, if user gives 3 than it create a folder , if user gives 4 than it should give a whatsapp message to your friend and if user gives 5 than it shutdowns the system"
      ],
      "metadata": {
        "id": "ea_xR6inIlr2"
      },
      "execution_count": null,
      "outputs": []
    },
    {
      "cell_type": "code",
      "source": [
        "#LCM\n",
        "a = 2\n",
        "b = 5\n",
        "if(a>b):\n",
        "  grater = a\n",
        "else:\n",
        "  greater = b\n",
        "while(True):\n",
        "  if(greater%a==0 and greater%b==0):\n",
        "    print(\"Greater is the LCM =>\",greater)\n",
        "    break\n",
        "  else:\n",
        "    greater+=1\n"
      ],
      "metadata": {
        "colab": {
          "base_uri": "https://localhost:8080/"
        },
        "id": "M49WzZB4t0pA",
        "outputId": "d5455800-5183-4835-a069-b4b2853b7951"
      },
      "execution_count": null,
      "outputs": [
        {
          "output_type": "stream",
          "name": "stdout",
          "text": [
            "Greater is the LCM => 10\n"
          ]
        }
      ]
    },
    {
      "cell_type": "code",
      "source": [
        "#Palindrome\n",
        "data=\"SARAS\"\n",
        "start=0\n",
        "end=len(data)-1\n",
        "a=0\n",
        "print(data[start],data[end])\n",
        "\n",
        "while(start<end):\n",
        "  if(data[start] != data[end]):\n",
        "    a=1\n",
        "    break\n",
        "\n",
        "  start+=1\n",
        "  end-=1\n",
        "\n",
        "if(a==1):\n",
        "  print(\"String is not a palindrome\")\n",
        "else:\n",
        "  print(\"String is a valid palindrome\")"
      ],
      "metadata": {
        "colab": {
          "base_uri": "https://localhost:8080/"
        },
        "id": "GnNr-zmuxVDI",
        "outputId": "7d831e77-1b33-4509-871d-e5112a4b7dd5"
      },
      "execution_count": null,
      "outputs": [
        {
          "output_type": "stream",
          "name": "stdout",
          "text": [
            "S S\n",
            "S S\n",
            "A A\n",
            "String is a valid palindrome\n"
          ]
        }
      ]
    },
    {
      "cell_type": "markdown",
      "source": [
        "#List"
      ],
      "metadata": {
        "id": "od7KPQ0t4Dgc"
      }
    },
    {
      "cell_type": "code",
      "source": [
        "#list => collection of elements where elements are stored on index position\n",
        "#It is a mutable datatype\n",
        "#It can perform change,update,delete\n",
        "mylist=[1,20,30,\"abc\"]\n",
        "print(mylist[2])"
      ],
      "metadata": {
        "colab": {
          "base_uri": "https://localhost:8080/"
        },
        "id": "ANSRDG9v2MMW",
        "outputId": "38691dba-cee6-4d7b-9de3-241ca68567e5"
      },
      "execution_count": null,
      "outputs": [
        {
          "output_type": "stream",
          "name": "stdout",
          "text": [
            "30\n"
          ]
        }
      ]
    },
    {
      "cell_type": "code",
      "source": [
        "mylist=[1,20,30,\"abc\"]\n",
        "mylist[0] = \"tiger\"   #update using index\n",
        "print(mylist)"
      ],
      "metadata": {
        "colab": {
          "base_uri": "https://localhost:8080/"
        },
        "id": "mWYZg1904dO4",
        "outputId": "7d81606a-d60d-474f-cef0-a84997748946"
      },
      "execution_count": null,
      "outputs": [
        {
          "output_type": "stream",
          "name": "stdout",
          "text": [
            "['tiger', 20, 30, 'abc']\n"
          ]
        }
      ]
    },
    {
      "cell_type": "code",
      "source": [
        "mylist=[1,20,30,\"abc\"]\n",
        "mylist.append(\"Diya\")  #Insert at last\n",
        "print(mylist)"
      ],
      "metadata": {
        "colab": {
          "base_uri": "https://localhost:8080/"
        },
        "id": "Y_R-HKtS5IaM",
        "outputId": "b3c65d56-423b-43ef-a494-1f263f7815e8"
      },
      "execution_count": null,
      "outputs": [
        {
          "output_type": "stream",
          "name": "stdout",
          "text": [
            "[1, 20, 30, 'abc', 'Diya']\n"
          ]
        }
      ]
    },
    {
      "cell_type": "code",
      "source": [
        "mylist=[1,20,30,\"abc\"]\n",
        "mylist.insert(1,\"Joker\")   #insert at position\n",
        "print(mylist)"
      ],
      "metadata": {
        "colab": {
          "base_uri": "https://localhost:8080/"
        },
        "id": "VLDh7ewE5R-8",
        "outputId": "bdead9c7-84cf-46e6-d3f9-b707a18cc69f"
      },
      "execution_count": null,
      "outputs": [
        {
          "output_type": "stream",
          "name": "stdout",
          "text": [
            "[1, 'Joker', 20, 30, 'abc']\n"
          ]
        }
      ]
    },
    {
      "cell_type": "code",
      "source": [
        "mylist=[1,20,30,\"abc\"]\n",
        "mylist.pop()     #delete from last\n",
        "print(mylist)"
      ],
      "metadata": {
        "colab": {
          "base_uri": "https://localhost:8080/"
        },
        "id": "AY__VZhV5fNf",
        "outputId": "b65706d1-0a7c-49e5-d012-59130ec1b39e"
      },
      "execution_count": null,
      "outputs": [
        {
          "output_type": "stream",
          "name": "stdout",
          "text": [
            "[1, 20, 30]\n"
          ]
        }
      ]
    },
    {
      "cell_type": "code",
      "source": [
        "mylist=[1,20,30,\"abc\"]\n",
        "mylist.pop(2)      #delete from a position\n",
        "print(mylist)"
      ],
      "metadata": {
        "colab": {
          "base_uri": "https://localhost:8080/"
        },
        "id": "whHsQHHb5xkR",
        "outputId": "05d552d0-8af1-466a-9cad-9c4d9bed7211"
      },
      "execution_count": null,
      "outputs": [
        {
          "output_type": "stream",
          "name": "stdout",
          "text": [
            "[1, 20, 'abc']\n"
          ]
        }
      ]
    },
    {
      "cell_type": "code",
      "source": [
        "mylist=[1,20,30,40,51]\n",
        "for i in range(0,len(mylist)):\n",
        "  print(i,mylist[i])"
      ],
      "metadata": {
        "colab": {
          "base_uri": "https://localhost:8080/"
        },
        "id": "us4rFyYF6E_p",
        "outputId": "bba02fea-ab4f-46e3-a078-e1b6870f9fe4"
      },
      "execution_count": null,
      "outputs": [
        {
          "output_type": "stream",
          "name": "stdout",
          "text": [
            "0 1\n",
            "1 20\n",
            "2 30\n",
            "3 40\n",
            "4 51\n"
          ]
        }
      ]
    },
    {
      "cell_type": "code",
      "source": [
        "mylist=[1,20,30,40,51]\n",
        "for i in range(0,len(mylist)):\n",
        "\n",
        "  if(mylist[i]%2==0):\n",
        "    print(\"even =>\",mylist[i])"
      ],
      "metadata": {
        "colab": {
          "base_uri": "https://localhost:8080/"
        },
        "id": "PjP92p5D7K-v",
        "outputId": "e39feb1c-f59d-4e8c-c015-942ed1238e0d"
      },
      "execution_count": null,
      "outputs": [
        {
          "output_type": "stream",
          "name": "stdout",
          "text": [
            "even => 20\n",
            "even => 30\n",
            "even => 40\n"
          ]
        }
      ]
    },
    {
      "cell_type": "code",
      "source": [
        "#Find max from list\n",
        "mylist = [10,20,1,55,5]\n",
        "max = mylist[0]\n",
        "for i in range( 0 , len( mylist ) ):\n",
        "\n",
        "  if( mylist[i] > max ):\n",
        "    max = mylist[i]\n",
        "print( \"Maximum number is:\",max )"
      ],
      "metadata": {
        "colab": {
          "base_uri": "https://localhost:8080/"
        },
        "id": "lNdbwEDo7bFS",
        "outputId": "f4eab4ac-682c-4ca9-f0c2-0e71bd1161a2"
      },
      "execution_count": null,
      "outputs": [
        {
          "output_type": "stream",
          "name": "stdout",
          "text": [
            "Maximum number is: 10\n"
          ]
        }
      ]
    },
    {
      "cell_type": "code",
      "source": [
        "lst = [10,20,30,51,43]\n",
        "sum = 0\n",
        "lst1=[]\n",
        "for i in range(0, len(lst)):\n",
        "  sum+=lst[i]\n",
        "  lst1.append(sum)\n",
        "print(lst1)"
      ],
      "metadata": {
        "colab": {
          "base_uri": "https://localhost:8080/"
        },
        "id": "AAwj4-Qf7j27",
        "outputId": "2622d0fb-8eba-45dc-85c8-323638095aed"
      },
      "execution_count": null,
      "outputs": [
        {
          "output_type": "stream",
          "name": "stdout",
          "text": [
            "[10, 30, 60, 111, 154]\n"
          ]
        }
      ]
    },
    {
      "cell_type": "code",
      "source": [
        "for i in range(1,4):\n",
        "  print(\"----student\",i)\n",
        "  for j in range(1,i+1):\n",
        "    print(\"Good Morning\")"
      ],
      "metadata": {
        "colab": {
          "base_uri": "https://localhost:8080/"
        },
        "id": "rZHi2i64Dxpz",
        "outputId": "f39063d5-d273-439d-9059-ec10d8815ee4"
      },
      "execution_count": null,
      "outputs": [
        {
          "output_type": "stream",
          "name": "stdout",
          "text": [
            "----student 1\n",
            "Good Morning\n",
            "----student 2\n",
            "Good Morning\n",
            "Good Morning\n",
            "----student 3\n",
            "Good Morning\n",
            "Good Morning\n",
            "Good Morning\n"
          ]
        }
      ]
    },
    {
      "cell_type": "code",
      "source": [
        "#finding out 2 numbers that will create a target (i.e 2 numbers that can create number 9)\n",
        "lst = [-1,0,2,5,7,10,14]\n",
        "target = 9\n",
        "for i in range(0,len(lst)):\n",
        "  for j in range(i+1,len(lst)):\n",
        "    if( lst[i] + lst[j] == 9):\n",
        "      print(\"Sum =>\",lst[i],lst[j])\n"
      ],
      "metadata": {
        "colab": {
          "base_uri": "https://localhost:8080/"
        },
        "id": "_evsHdU-8vZQ",
        "outputId": "d3effd8e-9598-496b-9b4a-a46caa6e593b"
      },
      "execution_count": null,
      "outputs": [
        {
          "output_type": "stream",
          "name": "stdout",
          "text": [
            "Sum => -1 10\n",
            "Sum => 2 7\n"
          ]
        }
      ]
    },
    {
      "cell_type": "code",
      "source": [
        "#WAP in python that open your browser, opens insta and than program itself gives your id password and logins\n"
      ],
      "metadata": {
        "id": "CaVHWwAj8zPR"
      },
      "execution_count": null,
      "outputs": []
    },
    {
      "cell_type": "code",
      "source": [
        "for i in range(1,6):\n",
        "  print(\"----student\",i)\n",
        "  for j in range(0,i+1):\n",
        "    print(\"Good Morning\")"
      ],
      "metadata": {
        "colab": {
          "base_uri": "https://localhost:8080/"
        },
        "id": "DCr3Oaua2Yib",
        "outputId": "403501c2-9d19-488a-a46f-af3501d22b98"
      },
      "execution_count": null,
      "outputs": [
        {
          "output_type": "stream",
          "name": "stdout",
          "text": [
            "----student 1\n",
            "Good Morning\n",
            "Good Morning\n",
            "----student 2\n",
            "Good Morning\n",
            "Good Morning\n",
            "Good Morning\n",
            "----student 3\n",
            "Good Morning\n",
            "Good Morning\n",
            "Good Morning\n",
            "Good Morning\n",
            "----student 4\n",
            "Good Morning\n",
            "Good Morning\n",
            "Good Morning\n",
            "Good Morning\n",
            "Good Morning\n",
            "----student 5\n",
            "Good Morning\n",
            "Good Morning\n",
            "Good Morning\n",
            "Good Morning\n",
            "Good Morning\n",
            "Good Morning\n"
          ]
        }
      ]
    }
  ]
}