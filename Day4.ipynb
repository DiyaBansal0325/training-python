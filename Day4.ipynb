{
  "nbformat": 4,
  "nbformat_minor": 0,
  "metadata": {
    "colab": {
      "provenance": [],
      "authorship_tag": "ABX9TyOPs5r4jC9JApeFjGseSz/h",
      "include_colab_link": true
    },
    "kernelspec": {
      "name": "python3",
      "display_name": "Python 3"
    },
    "language_info": {
      "name": "python"
    }
  },
  "cells": [
    {
      "cell_type": "markdown",
      "metadata": {
        "id": "view-in-github",
        "colab_type": "text"
      },
      "source": [
        "<a href=\"https://colab.research.google.com/github/DiyaBansal0325/training-python/blob/main/Day4.ipynb\" target=\"_parent\"><img src=\"https://colab.research.google.com/assets/colab-badge.svg\" alt=\"Open In Colab\"/></a>"
      ]
    },
    {
      "cell_type": "markdown",
      "source": [
        "#Tuples"
      ],
      "metadata": {
        "id": "VjZHOH4R7VjQ"
      }
    },
    {
      "cell_type": "code",
      "source": [
        "mytuple = (10,20,30,\"abc\",10)\n",
        "mytuple.count(10)    #count the occurrance of an element\n",
        "mytuple.index(\"abc\")  #return the index value"
      ],
      "metadata": {
        "colab": {
          "base_uri": "https://localhost:8080/"
        },
        "id": "lq9M2Jtq7VDz",
        "outputId": "a888f388-a7d4-4fe8-a99b-b3f30aa8ac3c"
      },
      "execution_count": null,
      "outputs": [
        {
          "output_type": "execute_result",
          "data": {
            "text/plain": [
              "3"
            ]
          },
          "metadata": {},
          "execution_count": 20
        }
      ]
    },
    {
      "cell_type": "markdown",
      "source": [
        "#Patterns"
      ],
      "metadata": {
        "id": "bpLzkNYO8QO1"
      }
    },
    {
      "cell_type": "code",
      "source": [
        "for i in range (1,4):\n",
        "  print(\"Student\",i)\n",
        "  for j in range(1,6):\n",
        "    print(\"Sub:\" , j, end=\" \")\n",
        "  print(\"\")\n",
        "  print(\"#### TEA BREAK ####\")"
      ],
      "metadata": {
        "colab": {
          "base_uri": "https://localhost:8080/"
        },
        "id": "F96KVpPE8PiZ",
        "outputId": "8a3bc3d4-174d-4d63-b3bf-30f26ea9a587"
      },
      "execution_count": null,
      "outputs": [
        {
          "output_type": "stream",
          "name": "stdout",
          "text": [
            "Student 1\n",
            "Sub: 1 Sub: 2 Sub: 3 Sub: 4 Sub: 5 \n",
            "#### TEA BREAK ####\n",
            "Student 2\n",
            "Sub: 1 Sub: 2 Sub: 3 Sub: 4 Sub: 5 \n",
            "#### TEA BREAK ####\n",
            "Student 3\n",
            "Sub: 1 Sub: 2 Sub: 3 Sub: 4 Sub: 5 \n",
            "#### TEA BREAK ####\n"
          ]
        }
      ]
    },
    {
      "cell_type": "code",
      "source": [
        "for i in range (1,4):\n",
        "  print(\"Student\",i)\n",
        "  for j in range(1,5-i):\n",
        "    print(\"Sub:\" , j, end=\" \")\n",
        "  print(\"\")"
      ],
      "metadata": {
        "colab": {
          "base_uri": "https://localhost:8080/"
        },
        "id": "i1RYyybj6ScC",
        "outputId": "06b90d40-7102-4541-f447-ec24997f026a"
      },
      "execution_count": null,
      "outputs": [
        {
          "output_type": "stream",
          "name": "stdout",
          "text": [
            "Student 1\n",
            "Sub: 1 Sub: 2 Sub: 3 \n",
            "Student 2\n",
            "Sub: 1 Sub: 2 \n",
            "Student 3\n",
            "Sub: 1 \n"
          ]
        }
      ]
    },
    {
      "cell_type": "code",
      "source": [
        "for i in range(1,5):\n",
        "  for j in range(1,5):\n",
        "    print(\"*\", end = \" \")\n",
        "  print(\"\")"
      ],
      "metadata": {
        "colab": {
          "base_uri": "https://localhost:8080/"
        },
        "id": "SGTYKoQS_uRm",
        "outputId": "39aed514-69ca-474e-f535-68288ae78a46"
      },
      "execution_count": null,
      "outputs": [
        {
          "output_type": "stream",
          "name": "stdout",
          "text": [
            "* * * * \n",
            "* * * * \n",
            "* * * * \n",
            "* * * * \n"
          ]
        }
      ]
    },
    {
      "cell_type": "code",
      "source": [
        "for i in range(1,5):\n",
        "  for j in range(1,i+1):\n",
        "    print(\"*\", end = \" \")\n",
        "  print(\"\")"
      ],
      "metadata": {
        "colab": {
          "base_uri": "https://localhost:8080/"
        },
        "id": "OnisBCCVAyuf",
        "outputId": "1987e9e5-c1f3-40b3-a21c-53d97a9ed295"
      },
      "execution_count": null,
      "outputs": [
        {
          "output_type": "stream",
          "name": "stdout",
          "text": [
            "* \n",
            "* * \n",
            "* * * \n",
            "* * * * \n"
          ]
        }
      ]
    },
    {
      "cell_type": "code",
      "source": [
        "for i in range(1,5):\n",
        "  for j in range(1,6-i):\n",
        "    print(\"*\", end = \" \")\n",
        "  print(\"\")"
      ],
      "metadata": {
        "colab": {
          "base_uri": "https://localhost:8080/"
        },
        "id": "hls0jDfuA7fR",
        "outputId": "47ccfaf0-8aaa-4123-81d9-ed0238b4ae49"
      },
      "execution_count": null,
      "outputs": [
        {
          "output_type": "stream",
          "name": "stdout",
          "text": [
            "* * * * \n",
            "* * * \n",
            "* * \n",
            "* \n"
          ]
        }
      ]
    },
    {
      "cell_type": "code",
      "source": [
        "for i in range(1,5):\n",
        "  for j in range(1,5):\n",
        "    print(j, end = \" \")\n",
        "  print(\"\")"
      ],
      "metadata": {
        "colab": {
          "base_uri": "https://localhost:8080/"
        },
        "id": "VwRZH7tOBAco",
        "outputId": "33799608-7905-4887-d7c0-872bc7497674"
      },
      "execution_count": null,
      "outputs": [
        {
          "output_type": "stream",
          "name": "stdout",
          "text": [
            "1 2 3 4 \n",
            "1 2 3 4 \n",
            "1 2 3 4 \n",
            "1 2 3 4 \n"
          ]
        }
      ]
    },
    {
      "cell_type": "code",
      "source": [
        "for i in range(1,4):\n",
        "  for j in range(1,4):\n",
        "    print(i, end = \" \")\n",
        "  print(\"\")"
      ],
      "metadata": {
        "colab": {
          "base_uri": "https://localhost:8080/"
        },
        "id": "dZuWYb3DBh1F",
        "outputId": "e5f3c8dc-a651-40fc-e980-ebdf14add106"
      },
      "execution_count": null,
      "outputs": [
        {
          "output_type": "stream",
          "name": "stdout",
          "text": [
            "1 1 1 \n",
            "2 2 2 \n",
            "3 3 3 \n"
          ]
        }
      ]
    },
    {
      "cell_type": "code",
      "source": [
        "for i in range(4,9):\n",
        "  for j in range(i+2,i+6):\n",
        "    print(i, end = \" \")\n",
        "  print(\"\")"
      ],
      "metadata": {
        "colab": {
          "base_uri": "https://localhost:8080/"
        },
        "id": "7R4RyJrJBsTW",
        "outputId": "8d2cfa44-f450-4678-f5a4-a5ae0b74b5b2"
      },
      "execution_count": null,
      "outputs": [
        {
          "output_type": "stream",
          "name": "stdout",
          "text": [
            "4 4 4 4 \n",
            "5 5 5 5 \n",
            "6 6 6 6 \n",
            "7 7 7 7 \n",
            "8 8 8 8 \n"
          ]
        }
      ]
    },
    {
      "cell_type": "code",
      "source": [
        "for i in range(4,8):\n",
        "  for j in range(4,8):\n",
        "    print(j, end = \" \")\n",
        "  print(\"\")"
      ],
      "metadata": {
        "colab": {
          "base_uri": "https://localhost:8080/"
        },
        "id": "n_A7MuWEB8NO",
        "outputId": "efd574db-1018-46bf-9b23-afe95ad9a81c"
      },
      "execution_count": null,
      "outputs": [
        {
          "output_type": "stream",
          "name": "stdout",
          "text": [
            "4 5 6 7 \n",
            "4 5 6 7 \n",
            "4 5 6 7 \n",
            "4 5 6 7 \n"
          ]
        }
      ]
    },
    {
      "cell_type": "code",
      "source": [
        "k = 0\n",
        "for i in range(0,3):\n",
        "  for j in range(k+1,k+5):\n",
        "    print(j, end = \" \")\n",
        "  k+=4\n",
        "  print(\"\")\n"
      ],
      "metadata": {
        "colab": {
          "base_uri": "https://localhost:8080/"
        },
        "id": "sejmETUWCxzc",
        "outputId": "b5d7c3bc-83a8-4c5d-b57a-33a25b9694b2"
      },
      "execution_count": null,
      "outputs": [
        {
          "output_type": "stream",
          "name": "stdout",
          "text": [
            "1 2 3 4 \n",
            "5 6 7 8 \n",
            "9 10 11 12 \n"
          ]
        }
      ]
    },
    {
      "cell_type": "code",
      "source": [
        "for i in range(1,4):\n",
        "  for j in range(1,2):\n",
        "    print(\"ABC\", end = \" \")\n",
        "  print(\"\")"
      ],
      "metadata": {
        "colab": {
          "base_uri": "https://localhost:8080/"
        },
        "id": "kcW6UsalC8qk",
        "outputId": "573b4abb-22b5-4068-ba5a-101c568d8e13"
      },
      "execution_count": null,
      "outputs": [
        {
          "output_type": "stream",
          "name": "stdout",
          "text": [
            "ABC \n",
            "ABC \n",
            "ABC \n"
          ]
        }
      ]
    },
    {
      "cell_type": "code",
      "source": [
        "for i in range(1,5):\n",
        "  for j in range(1,i+1):\n",
        "    print(\"*\", end = \" \")\n",
        "  print(\"\")"
      ],
      "metadata": {
        "colab": {
          "base_uri": "https://localhost:8080/"
        },
        "id": "SL9avIKjEdS6",
        "outputId": "99663a51-f522-4e05-a2a7-2db9899c9ca5"
      },
      "execution_count": null,
      "outputs": [
        {
          "output_type": "stream",
          "name": "stdout",
          "text": [
            "* \n",
            "* * \n",
            "* * * \n",
            "* * * * \n"
          ]
        }
      ]
    },
    {
      "cell_type": "code",
      "source": [
        "for i in range(1,5):\n",
        "  for j in range(1,i+1):\n",
        "    print(j, end = \" \")\n",
        "  print(\"\")"
      ],
      "metadata": {
        "colab": {
          "base_uri": "https://localhost:8080/"
        },
        "id": "gJjNUoR5FEem",
        "outputId": "dc6e2206-54dc-4140-ebc5-f4d051b1d650"
      },
      "execution_count": null,
      "outputs": [
        {
          "output_type": "stream",
          "name": "stdout",
          "text": [
            "1 \n",
            "1 2 \n",
            "1 2 3 \n",
            "1 2 3 4 \n"
          ]
        }
      ]
    },
    {
      "cell_type": "code",
      "source": [
        "for i in range(4,8):\n",
        "  for j in range(4,i+1):\n",
        "    print(j, end = \" \")\n",
        "  print(\"\")"
      ],
      "metadata": {
        "colab": {
          "base_uri": "https://localhost:8080/"
        },
        "id": "Tfs8VSf9FHTT",
        "outputId": "708e5708-1c33-4f4d-8b16-cb53c5993fa1"
      },
      "execution_count": null,
      "outputs": [
        {
          "output_type": "stream",
          "name": "stdout",
          "text": [
            "4 \n",
            "4 5 \n",
            "4 5 6 \n",
            "4 5 6 7 \n"
          ]
        }
      ]
    },
    {
      "cell_type": "code",
      "source": [
        "k = 0\n",
        "for i in range(1,5):\n",
        "  for j in range(i,k+2):\n",
        "    print(j, end = \" \")\n",
        "  k+=2\n",
        "  print(\"\")\n"
      ],
      "metadata": {
        "colab": {
          "base_uri": "https://localhost:8080/"
        },
        "id": "dt1ARThnFfZq",
        "outputId": "7c0db015-99dd-4339-9bf6-de547f82e61c"
      },
      "execution_count": null,
      "outputs": [
        {
          "output_type": "stream",
          "name": "stdout",
          "text": [
            "1 \n",
            "2 3 \n",
            "3 4 5 \n",
            "4 5 6 7 \n"
          ]
        }
      ]
    },
    {
      "cell_type": "code",
      "source": [
        "k = 1\n",
        "for i in range(1,5):\n",
        "  for j in range(1,i+1):\n",
        "    print(k, end = \" \")\n",
        "    k+=1\n",
        "  print(\"\")"
      ],
      "metadata": {
        "colab": {
          "base_uri": "https://localhost:8080/"
        },
        "id": "aWBxYdrVFpIZ",
        "outputId": "8663c93c-7b13-4e0c-ab02-cf8cf733fb84"
      },
      "execution_count": null,
      "outputs": [
        {
          "output_type": "stream",
          "name": "stdout",
          "text": [
            "1 \n",
            "2 3 \n",
            "4 5 6 \n",
            "7 8 9 10 \n"
          ]
        }
      ]
    },
    {
      "cell_type": "code",
      "source": [
        "for i in range(1,5):\n",
        "  for j in range(1,5-i):\n",
        "    print(\"-\",end=\" \")\n",
        "  print(\"\")"
      ],
      "metadata": {
        "colab": {
          "base_uri": "https://localhost:8080/"
        },
        "id": "M4UeDfnOGVMb",
        "outputId": "ea16299b-4222-40f6-bba6-da1cf9817599"
      },
      "execution_count": null,
      "outputs": [
        {
          "output_type": "stream",
          "name": "stdout",
          "text": [
            "- - - \n",
            "- - \n",
            "- \n",
            "\n"
          ]
        }
      ]
    },
    {
      "cell_type": "code",
      "source": [
        "for i in range(1,5):\n",
        "  for j in range(1,i+1):\n",
        "    print(\"*\", end = \" \")\n",
        "  print(\"\")"
      ],
      "metadata": {
        "colab": {
          "base_uri": "https://localhost:8080/"
        },
        "id": "jv5Zy1QVIlI-",
        "outputId": "4bd6049a-3112-4ca4-d958-53f9f49a7136"
      },
      "execution_count": null,
      "outputs": [
        {
          "output_type": "stream",
          "name": "stdout",
          "text": [
            "* \n",
            "* * \n",
            "* * * \n",
            "* * * * \n"
          ]
        }
      ]
    },
    {
      "cell_type": "code",
      "source": [
        "for i in range(1,5):\n",
        "  for j in range(1,5-i):\n",
        "    print(\"-\",end=\" \")\n",
        "  for j in range(1,i+1):\n",
        "    print(\"*\", end = \" \")\n",
        "  print(\"\")"
      ],
      "metadata": {
        "colab": {
          "base_uri": "https://localhost:8080/"
        },
        "id": "qdbiFdJBIqSN",
        "outputId": "ba007a87-92b1-4b60-8932-5d41823fc827"
      },
      "execution_count": null,
      "outputs": [
        {
          "output_type": "stream",
          "name": "stdout",
          "text": [
            "- - - * \n",
            "- - * * \n",
            "- * * * \n",
            "* * * * \n"
          ]
        }
      ]
    },
    {
      "cell_type": "code",
      "source": [
        "for i in range(1,6):\n",
        "  for j in range(1,i):\n",
        "    print(\"-\",end=\" \")\n",
        "  for j in range(1,7-i):\n",
        "    print(\"*\", end = \" \")\n",
        "  print(\"\")"
      ],
      "metadata": {
        "colab": {
          "base_uri": "https://localhost:8080/"
        },
        "id": "m7p-NJXUIuhl",
        "outputId": "e57cc3bb-7a01-48ed-8763-5aa049cf9c5a"
      },
      "execution_count": null,
      "outputs": [
        {
          "output_type": "stream",
          "name": "stdout",
          "text": [
            "* * * * * \n",
            "- * * * * \n",
            "- - * * * \n",
            "- - - * * \n",
            "- - - - * \n"
          ]
        }
      ]
    },
    {
      "cell_type": "code",
      "source": [
        "for i in range(1,5):\n",
        "  for j in range(1,i+1):\n",
        "\n",
        "    if((i+j)%2==0):\n",
        "      print(\"1\",end=\" \")\n",
        "    else:\n",
        "      print(\"0\",end=\" \")\n",
        "  print(\"\")"
      ],
      "metadata": {
        "colab": {
          "base_uri": "https://localhost:8080/"
        },
        "id": "RA1p6GFVJHIl",
        "outputId": "5c430f1b-2fa6-415e-ab58-d9d13327c856"
      },
      "execution_count": null,
      "outputs": [
        {
          "output_type": "stream",
          "name": "stdout",
          "text": [
            "1 \n",
            "0 1 \n",
            "1 0 1 \n",
            "0 1 0 1 \n"
          ]
        }
      ]
    },
    {
      "cell_type": "code",
      "source": [
        "asci_value = 65\n",
        "for i in range(1,5):\n",
        "  for j in range(1,i+1):\n",
        "    print(chr(asci_value),end=\" \")\n",
        "    asci_value += 1\n",
        "  print(\"\")"
      ],
      "metadata": {
        "colab": {
          "base_uri": "https://localhost:8080/"
        },
        "id": "oecrAw0pKt6S",
        "outputId": "9c79562e-54ac-44b4-8bc3-989fe0909909"
      },
      "execution_count": null,
      "outputs": [
        {
          "output_type": "stream",
          "name": "stdout",
          "text": [
            "A \n",
            "B C \n",
            "D E F \n",
            "G H I J \n"
          ]
        }
      ]
    },
    {
      "cell_type": "markdown",
      "source": [
        "#Pattern Assignment"
      ],
      "metadata": {
        "id": "-Xo0xzXD9SO6"
      }
    },
    {
      "cell_type": "code",
      "source": [
        "#Q1\n",
        "for i in range(1,5):\n",
        "  for j in range(1,i):\n",
        "    print(\" \",end=\" \")\n",
        "  for j in range(1,5):\n",
        "    print(\"*\", end = \" \")\n",
        "  print(\"\")"
      ],
      "metadata": {
        "colab": {
          "base_uri": "https://localhost:8080/"
        },
        "id": "Rj9H-PKnOgAU",
        "outputId": "fb1e77a4-280e-46eb-86e6-a67699ee4392"
      },
      "execution_count": null,
      "outputs": [
        {
          "output_type": "stream",
          "name": "stdout",
          "text": [
            "* * * * \n",
            "  * * * * \n",
            "    * * * * \n",
            "      * * * * \n"
          ]
        }
      ]
    },
    {
      "cell_type": "code",
      "source": [
        "#Q5\n",
        "asci_value = 68\n",
        "for i in range(1,6):\n",
        "  for j in range(1,i+1):\n",
        "    print(chr(asci_value + j),end=\" \")\n",
        "  asci_value -= 1\n",
        "  print(\"\")"
      ],
      "metadata": {
        "colab": {
          "base_uri": "https://localhost:8080/"
        },
        "id": "rV4PTqZSP6q1",
        "outputId": "6af117b9-2f5d-4974-a890-c17e8c9d8b85"
      },
      "execution_count": null,
      "outputs": [
        {
          "output_type": "stream",
          "name": "stdout",
          "text": [
            "E \n",
            "D E \n",
            "C D E \n",
            "B C D E \n",
            "A B C D E \n"
          ]
        }
      ]
    },
    {
      "cell_type": "code",
      "source": [
        "#Q8 a)\n",
        "for i in range(1,6):\n",
        "  for j in range(1,7-i):\n",
        "    print(\" \",end=\" \")\n",
        "  for j in range(1,6):\n",
        "    print(\"*\", end = \" \")\n",
        "  print(\"\")"
      ],
      "metadata": {
        "id": "0PmeMC5dRDbb",
        "colab": {
          "base_uri": "https://localhost:8080/"
        },
        "outputId": "49224bc7-fc98-44c4-f6b6-6489376f4f2f"
      },
      "execution_count": null,
      "outputs": [
        {
          "output_type": "stream",
          "name": "stdout",
          "text": [
            "          * * * * * \n",
            "        * * * * * \n",
            "      * * * * * \n",
            "    * * * * * \n",
            "  * * * * * \n"
          ]
        }
      ]
    },
    {
      "cell_type": "code",
      "source": [
        "#Q8 b)\n",
        "n = 64\n",
        "for i in range(1,6):\n",
        "  for j in range(1,7-i):\n",
        "    print(\" \",end=\" \")\n",
        "  for j in range(1,6):\n",
        "    print(chr(n + j), end = \" \")\n",
        "  print(\"\")"
      ],
      "metadata": {
        "id": "5Elsh8IQSv4e",
        "colab": {
          "base_uri": "https://localhost:8080/"
        },
        "outputId": "7ceb58e7-a58b-40b8-bfd3-6ce898b83dd8"
      },
      "execution_count": null,
      "outputs": [
        {
          "output_type": "stream",
          "name": "stdout",
          "text": [
            "          A B C D E \n",
            "        A B C D E \n",
            "      A B C D E \n",
            "    A B C D E \n",
            "  A B C D E \n"
          ]
        }
      ]
    },
    {
      "cell_type": "code",
      "source": [
        "#Q10\n",
        "for i in range(1, 5):\n",
        "  for j in range(1, 8):\n",
        "    if (j == (4 - i) + 1 or j == (4 + i) - 1 or i == 4):\n",
        "      print(\"*\", end=\"\")\n",
        "    else:\n",
        "      print(\" \", end=\"\")\n",
        "  print()"
      ],
      "metadata": {
        "colab": {
          "base_uri": "https://localhost:8080/"
        },
        "id": "LUuXeESYyd1a",
        "outputId": "46569eba-63d0-4553-bb26-97c33ccb006b"
      },
      "execution_count": null,
      "outputs": [
        {
          "output_type": "stream",
          "name": "stdout",
          "text": [
            "   *   \n",
            "  * *  \n",
            " *   * \n",
            "*******\n"
          ]
        }
      ]
    },
    {
      "cell_type": "code",
      "source": [
        "for i in range(1,5):\n",
        "  for j in range(1,i+1):\n",
        "    print(\"*\",end=\" \")\n",
        "  print(\"\")"
      ],
      "metadata": {
        "colab": {
          "base_uri": "https://localhost:8080/"
        },
        "id": "742PIMFv3Ptw",
        "outputId": "dcf78acf-20fc-4ac1-9ffc-9e4d8c702dcf"
      },
      "execution_count": null,
      "outputs": [
        {
          "output_type": "stream",
          "name": "stdout",
          "text": [
            "* \n",
            "* * \n",
            "* * * \n",
            "* * * * \n"
          ]
        }
      ]
    },
    {
      "cell_type": "code",
      "source": [
        "for a in range(1,4):\n",
        "  for k in range(1,5-a):\n",
        "    print(\"*\",end=\" \")\n",
        "  print(\"\")"
      ],
      "metadata": {
        "colab": {
          "base_uri": "https://localhost:8080/"
        },
        "id": "VgxUtt087swn",
        "outputId": "a4e70aa4-4539-4be1-f93d-05fd7d9daa28"
      },
      "execution_count": null,
      "outputs": [
        {
          "output_type": "stream",
          "name": "stdout",
          "text": [
            "* * * \n",
            "* * \n",
            "* \n"
          ]
        }
      ]
    },
    {
      "cell_type": "code",
      "source": [
        "#Q12\n",
        "for i in range(1,5):\n",
        "  for j in range(1,i+1):\n",
        "    print(\"*\",end=\" \")\n",
        "  print(\"\")\n",
        "for a in range(1,4):\n",
        "  for k in range(1,5-a):\n",
        "    print(\"*\",end=\" \")\n",
        "  print(\"\")"
      ],
      "metadata": {
        "colab": {
          "base_uri": "https://localhost:8080/"
        },
        "id": "7QeutxDs8X4U",
        "outputId": "053b858c-0c3e-42f6-e622-d9d8ed088930"
      },
      "execution_count": null,
      "outputs": [
        {
          "output_type": "stream",
          "name": "stdout",
          "text": [
            "* \n",
            "* * \n",
            "* * * \n",
            "* * * * \n",
            "* * * \n",
            "* * \n",
            "* \n"
          ]
        }
      ]
    }
  ]
}