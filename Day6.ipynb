{
  "nbformat": 4,
  "nbformat_minor": 0,
  "metadata": {
    "colab": {
      "provenance": [],
      "authorship_tag": "ABX9TyOBNu3ncymLu7ti0QyiL7DZ",
      "include_colab_link": true
    },
    "kernelspec": {
      "name": "python3",
      "display_name": "Python 3"
    },
    "language_info": {
      "name": "python"
    }
  },
  "cells": [
    {
      "cell_type": "markdown",
      "metadata": {
        "id": "view-in-github",
        "colab_type": "text"
      },
      "source": [
        "<a href=\"https://colab.research.google.com/github/DiyaBansal0325/training-python/blob/main/Day6.ipynb\" target=\"_parent\"><img src=\"https://colab.research.google.com/assets/colab-badge.svg\" alt=\"Open In Colab\"/></a>"
      ]
    },
    {
      "cell_type": "code",
      "execution_count": null,
      "metadata": {
        "id": "MQA0WAfrKJpz"
      },
      "outputs": [],
      "source": [
        "#type of arguement\n",
        "def func(x,y,z=40):\n",
        "  print(f\"x:{x} y:{y} z:{z}\")"
      ]
    },
    {
      "cell_type": "code",
      "source": [
        "func(10,20,30)\n",
        "func(20,10,30)    #Position arguement\n",
        "func(y=20,x=10,z=30)    #Keyword arguement"
      ],
      "metadata": {
        "colab": {
          "base_uri": "https://localhost:8080/"
        },
        "id": "BGK9pcK7Mlgh",
        "outputId": "d728f617-c016-4261-a27d-34ded2b40f58"
      },
      "execution_count": null,
      "outputs": [
        {
          "output_type": "stream",
          "name": "stdout",
          "text": [
            "x:10 y:20 z:30\n",
            "x:20 y:10 z:30\n",
            "x:10 y:20 z:30\n"
          ]
        }
      ]
    },
    {
      "cell_type": "code",
      "source": [
        "func(y=20,x=10)   #default arguement"
      ],
      "metadata": {
        "colab": {
          "base_uri": "https://localhost:8080/"
        },
        "id": "RYvU5JpaM2xG",
        "outputId": "37e23b7c-31e3-457a-9aa0-e02741ee1e19"
      },
      "execution_count": null,
      "outputs": [
        {
          "output_type": "stream",
          "name": "stdout",
          "text": [
            "x:10 y:20 z:40\n"
          ]
        }
      ]
    },
    {
      "cell_type": "code",
      "source": [
        "#print only displays value\n",
        "#return is useful to take back the value from the function and use it later on by program"
      ],
      "metadata": {
        "id": "H3k32EIvNBzN"
      },
      "execution_count": null,
      "outputs": []
    },
    {
      "cell_type": "code",
      "source": [
        "def func(x):\n",
        "  print(x+50)\n",
        "  return 100\n",
        "out = func(10)\n",
        "print(\"out=>\",out)"
      ],
      "metadata": {
        "colab": {
          "base_uri": "https://localhost:8080/"
        },
        "id": "ketyW4MqOEBk",
        "outputId": "410d91c1-84c2-4f18-8366-10706d0bfcf2"
      },
      "execution_count": null,
      "outputs": [
        {
          "output_type": "stream",
          "name": "stdout",
          "text": [
            "60\n",
            "out=> 100\n"
          ]
        }
      ]
    },
    {
      "cell_type": "code",
      "source": [
        "#lambda functions => kind of functions which are written in single line\n",
        "#They are also called as annonymous function\n",
        "#Annonymous becoz they do not have name"
      ],
      "metadata": {
        "id": "Z20H8yRmORri"
      },
      "execution_count": null,
      "outputs": []
    },
    {
      "cell_type": "code",
      "source": [
        "def addNo(num):\n",
        "  return num+5\n",
        "\n",
        "addNo(10)"
      ],
      "metadata": {
        "colab": {
          "base_uri": "https://localhost:8080/"
        },
        "id": "YA1DHjdOPnVN",
        "outputId": "90c476c5-f5a0-4847-93cb-7794a5dafed8"
      },
      "execution_count": null,
      "outputs": [
        {
          "output_type": "execute_result",
          "data": {
            "text/plain": [
              "15"
            ]
          },
          "metadata": {},
          "execution_count": 20
        }
      ]
    },
    {
      "cell_type": "code",
      "source": [
        "y = lambda num: num+5\n",
        "y(10)"
      ],
      "metadata": {
        "colab": {
          "base_uri": "https://localhost:8080/"
        },
        "id": "uPWo72SvPuH8",
        "outputId": "0174c384-90ae-463c-febf-c890cdff225c"
      },
      "execution_count": null,
      "outputs": [
        {
          "output_type": "execute_result",
          "data": {
            "text/plain": [
              "15"
            ]
          },
          "metadata": {},
          "execution_count": 23
        }
      ]
    },
    {
      "cell_type": "code",
      "source": [
        "#map() => applied to each and every element => return for each element\n",
        "#It loads one data at a time\n",
        "#It improves processing\n",
        "# 2 parameters => function , value on which function have to apply"
      ],
      "metadata": {
        "id": "xdQj6CnwPxKC"
      },
      "execution_count": null,
      "outputs": []
    },
    {
      "cell_type": "code",
      "source": [
        "list( map( len, [\"hey\",\"hello\"] ) )"
      ],
      "metadata": {
        "colab": {
          "base_uri": "https://localhost:8080/"
        },
        "id": "HNiXZrPNRHcK",
        "outputId": "ba774072-47d6-4cf9-8086-61e8999a594b"
      },
      "execution_count": null,
      "outputs": [
        {
          "output_type": "execute_result",
          "data": {
            "text/plain": [
              "[3, 5]"
            ]
          },
          "metadata": {},
          "execution_count": 24
        }
      ]
    },
    {
      "cell_type": "code",
      "source": [
        "tuple( map( len, [\"user\",\"hello\"] ) )"
      ],
      "metadata": {
        "colab": {
          "base_uri": "https://localhost:8080/"
        },
        "id": "p_NUxCb1SDK0",
        "outputId": "8d63206a-e149-4590-c210-7357295c163f"
      },
      "execution_count": null,
      "outputs": [
        {
          "output_type": "execute_result",
          "data": {
            "text/plain": [
              "(4, 5)"
            ]
          },
          "metadata": {},
          "execution_count": 26
        }
      ]
    },
    {
      "cell_type": "code",
      "source": [
        "list( map( lambda x: x*x , [10,5,4,3]) )"
      ],
      "metadata": {
        "colab": {
          "base_uri": "https://localhost:8080/"
        },
        "id": "Pq6J4yK-SHmS",
        "outputId": "fafabf18-22ed-4aa2-a830-43235ee265bc"
      },
      "execution_count": null,
      "outputs": [
        {
          "output_type": "execute_result",
          "data": {
            "text/plain": [
              "[100, 25, 16, 9]"
            ]
          },
          "metadata": {},
          "execution_count": 28
        }
      ]
    },
    {
      "cell_type": "code",
      "source": [
        "def sqrt(x):\n",
        "  return x*x\n",
        "list( map( sqrt, [10,20,30] ) )"
      ],
      "metadata": {
        "colab": {
          "base_uri": "https://localhost:8080/"
        },
        "id": "0maJttXUSk-o",
        "outputId": "89eed43a-49ad-47e6-a529-888681b82bac"
      },
      "execution_count": null,
      "outputs": [
        {
          "output_type": "execute_result",
          "data": {
            "text/plain": [
              "[100, 400, 900]"
            ]
          },
          "metadata": {},
          "execution_count": 30
        }
      ]
    },
    {
      "cell_type": "code",
      "source": [
        "list( map( lambda x: x%2==0 , [10,5,4,3]) )    #map only gives true or false for condition"
      ],
      "metadata": {
        "colab": {
          "base_uri": "https://localhost:8080/"
        },
        "id": "gjTQsHNmTaad",
        "outputId": "e75da63e-9e73-4969-aa13-52e9d0b03c5a"
      },
      "execution_count": null,
      "outputs": [
        {
          "output_type": "execute_result",
          "data": {
            "text/plain": [
              "[True, False, True, False]"
            ]
          },
          "metadata": {},
          "execution_count": 31
        }
      ]
    },
    {
      "cell_type": "code",
      "source": [
        "#filter() => gives output based on the condition\n",
        "list( filter ( lambda x: x%2==0 , [10,5,4,3]) )"
      ],
      "metadata": {
        "colab": {
          "base_uri": "https://localhost:8080/"
        },
        "id": "iz6KCtVWSyI8",
        "outputId": "808b358a-9653-48a6-e00a-fa53909f33ab"
      },
      "execution_count": null,
      "outputs": [
        {
          "output_type": "execute_result",
          "data": {
            "text/plain": [
              "[10, 4]"
            ]
          },
          "metadata": {},
          "execution_count": 32
        }
      ]
    }
  ]
}